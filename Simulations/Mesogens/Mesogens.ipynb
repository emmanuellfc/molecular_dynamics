{
 "cells": [
  {
   "cell_type": "markdown",
   "metadata": {},
   "source": [
    "## Import essential packages"
   ]
  },
  {
   "cell_type": "code",
   "execution_count": null,
   "metadata": {},
   "outputs": [],
   "source": [
    "#----- These are for the simulation \n",
    "\n",
    "from __future__ import division\n",
    "import hoomd\n",
    "import hoomd.md\n",
    "import numpy\n",
    "from matplotlib import pyplot\n",
    "\n",
    "#----- These are for the orientation analysis\n",
    "\n",
    "import gsd\n",
    "import gsd.hoomd"
   ]
  },
  {
   "cell_type": "markdown",
   "metadata": {},
   "source": [
    "# Simulation"
   ]
  },
  {
   "cell_type": "code",
   "execution_count": null,
   "metadata": {},
   "outputs": [],
   "source": [
    "#-----Some important variables\n",
    "\n",
    "box = 12.5\n",
    "replicates = 10\n",
    "p_max = 0.5\n",
    "t_max = 1.0"
   ]
  },
  {
   "cell_type": "code",
   "execution_count": null,
   "metadata": {},
   "outputs": [],
   "source": [
    "#-------Define the unit cell\n",
    "\n",
    "sim = hoomd.context.initialize(\"\");\n",
    "uc = hoomd.lattice.unitcell(N = 1,\n",
    "                            a1 = [box, 0, 0],\n",
    "                            a2 = [0, box, 0],\n",
    "                            a3 = [0, 0, box],\n",
    "                            dimensions = 3,\n",
    "                            position = [[0,0,0]],\n",
    "                            type_name = ['M'],\n",
    "                            mass = [1.0],\n",
    "                            moment_inertia = [[0,\n",
    "                                               1/12*1.0*8**2,\n",
    "                                               1/12*1.0*8**2]],\n",
    "                            orientation = [[1, 0, 0, 0]]);\n",
    "\n",
    "#-----From the lattice we obtain a snapshot and initialize.\n",
    "\n",
    "snapshot = uc.get_snapshot()\n",
    "snapshot.replicate(replicates,replicates,replicates)\n",
    "system = hoomd.init.read_snapshot(snapshot)\n",
    "\n",
    "#-----Add the particle type for the constituent particles.\n",
    "\n",
    "system.particles.types.add('A');\n",
    "\n",
    "#-----Define each rigid body type in the local coordinate system of the body.\n",
    "\n",
    "rigid = hoomd.md.constrain.rigid();\n",
    "rigid.set_param('M', \n",
    "                types=['A']*8,\n",
    "                positions=[(-4,0,0),(-3,0,0),(-2,0,0),(-1,0,0),\n",
    "                           (1,0,0),(2,0,0),(3,0,0),(4,0,0)]);\n",
    "\n",
    "#-----Instruct the rigid constraint to create the constituent particles\n",
    "\n",
    "rigid.create_bodies();\n",
    "\n",
    "#-----Define the potential energy\n",
    "\n",
    "nl = hoomd.md.nlist.cell()\n",
    "\n",
    "lj = hoomd.md.pair.lj(r_cut = 3.5, nlist=nl)\n",
    "lj.set_params(mode='shift')\n",
    "\n",
    "#-----Define interaction with species in the binary mixture\n",
    "\n",
    "lj.pair_coeff.set('M','M', epsilon = 1.0, sigma = 1.0)\n",
    "lj.pair_coeff.set('A','A', epsilon = 1.0, sigma = 1.0)\n",
    "lj.pair_coeff.set('M','A', epsilon = 1.0, sigma = 1.0)\n",
    "\n",
    "\n",
    "#-----Select an standard integrator\n",
    "\n",
    "hoomd.md.integrate.mode_standard(dt=0.005);\n",
    "\n",
    "#------Define group\n",
    "\n",
    "mesogens = hoomd.group.rigid_center();\n",
    "\n",
    "#----Integrate using NPT\n",
    "\n",
    "pressure = hoomd.variant.linear_interp(points = [(0,1e-6), (1e4, p_max)])\n",
    "temperature = hoomd.variant.linear_interp(points = [(0,0.5), (1e4, t_max)])\n",
    "\n",
    "npt = hoomd.md.integrate.npt(group = mesogens, kT = temperature, tau = 0.5, tauP = 1.0, P = pressure);\n",
    "npt.randomize_velocities(seed=42)\n",
    "\n",
    "\n",
    "#-----Write output\n",
    "\n",
    "\n",
    "gsd_file = \"global_trayectory.gsd\"\n",
    "\n",
    "gsd = hoomd.dump.gsd(gsd_file,\n",
    "               period=1e3,\n",
    "               group=hoomd.group.all(),\n",
    "               overwrite=True);  \n",
    "\n",
    "\n",
    "log_file = \"global_trayectory.log\"\n",
    "\n",
    "log = hoomd.analyze.log(filename = log_file,\n",
    "                         quantities = ['num_particles',\n",
    "                                     'ndof',\n",
    "                                     'translational_ndof',\n",
    "                                     'rotational_ndof',\n",
    "                                     'potential_energy',\n",
    "                                     'kinetic_energy',\n",
    "                                     'translational_kinetic_energy',\n",
    "                                     'rotational_kinetic_energy',\n",
    "                                     'temperature',\n",
    "                                     'pressure',\n",
    "                                      'volume',\n",
    "                                      'npt_thermostat_energy'],\n",
    "                         period=1e3,\n",
    "                         overwrite=True);"
   ]
  },
  {
   "cell_type": "markdown",
   "metadata": {},
   "source": [
    "## Run the simulation"
   ]
  },
  {
   "cell_type": "code",
   "execution_count": null,
   "metadata": {},
   "outputs": [],
   "source": [
    "with sim:\n",
    "    hoomd.run(6e4)\n",
    "    npt.set_params(kT = 1.2)\n",
    "    hoomd.run(6e4)\n",
    "    npt.set_params(kT = 1.4)\n",
    "    hoomd.run(6e4)\n",
    "    npt.set_params(kT = 1.6)\n",
    "    hoomd.run(6e4)\n",
    "    npt.set_params(kT = 1.8)\n",
    "    hoomd.run(6e4)\n",
    "    npt.set_params(kT = 2.0)\n",
    "    hoomd.run(6e4)"
   ]
  },
  {
   "cell_type": "code",
   "execution_count": null,
   "metadata": {},
   "outputs": [],
   "source": []
  },
  {
   "cell_type": "markdown",
   "metadata": {},
   "source": [
    "## System initial density"
   ]
  },
  {
   "cell_type": "code",
   "execution_count": null,
   "metadata": {},
   "outputs": [],
   "source": [
    "particles = snapshot.particles.N\n",
    "\n",
    "lx = snapshot.box.Lx\n",
    "ly = snapshot.box.Ly\n",
    "lz = snapshot.box.Lz\n",
    "volume = lx * ly *lz\n",
    "\n",
    "rho = particles / volume\n",
    "\n",
    "print(\"Density = \", rho)"
   ]
  },
  {
   "cell_type": "code",
   "execution_count": null,
   "metadata": {},
   "outputs": [],
   "source": [
    "system.get_metadata()"
   ]
  },
  {
   "cell_type": "code",
   "execution_count": null,
   "metadata": {},
   "outputs": [],
   "source": []
  }
 ],
 "metadata": {
  "kernelspec": {
   "display_name": "Python 3",
   "language": "python",
   "name": "python3"
  },
  "language_info": {
   "codemirror_mode": {
    "name": "ipython",
    "version": 3
   },
   "file_extension": ".py",
   "mimetype": "text/x-python",
   "name": "python",
   "nbconvert_exporter": "python",
   "pygments_lexer": "ipython3",
   "version": "3.7.3"
  }
 },
 "nbformat": 4,
 "nbformat_minor": 2
}
