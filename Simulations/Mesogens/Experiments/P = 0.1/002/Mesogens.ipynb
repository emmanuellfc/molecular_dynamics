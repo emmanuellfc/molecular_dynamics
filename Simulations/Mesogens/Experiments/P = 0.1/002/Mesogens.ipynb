{
 "cells": [
  {
   "cell_type": "markdown",
   "metadata": {},
   "source": [
    "## Import essential packages"
   ]
  },
  {
   "cell_type": "code",
   "execution_count": 1,
   "metadata": {},
   "outputs": [],
   "source": [
    "#----- These are for the simulation \n",
    "\n",
    "from __future__ import division\n",
    "import hoomd\n",
    "import hoomd.md\n",
    "import numpy\n",
    "from matplotlib import pyplot\n",
    "\n",
    "#----- These are for the orientation analysis\n",
    "\n",
    "import gsd\n",
    "import gsd.hoomd"
   ]
  },
  {
   "cell_type": "markdown",
   "metadata": {},
   "source": [
    "# Simulation"
   ]
  },
  {
   "cell_type": "code",
   "execution_count": 2,
   "metadata": {},
   "outputs": [],
   "source": [
    "#-----Some important variables\n",
    "\n",
    "box = 12.5\n",
    "replicates = 10\n",
    "p_max = 0.5\n",
    "t_max = 2.0"
   ]
  },
  {
   "cell_type": "code",
   "execution_count": 3,
   "metadata": {},
   "outputs": [
    {
     "name": "stdout",
     "output_type": "stream",
     "text": [
      "HOOMD-blue 2.6.0 DOUBLE HPMC_MIXED TBB SSE SSE2 SSE3 \n",
      "Compiled: 05/29/2019\n",
      "Copyright (c) 2009-2019 The Regents of the University of Michigan.\n",
      "-----\n",
      "You are using HOOMD-blue. Please cite the following:\n",
      "* J A Anderson, C D Lorenz, and A Travesset. \"General purpose molecular dynamics\n",
      "  simulations fully implemented on graphics processing units\", Journal of\n",
      "  Computational Physics 227 (2008) 5342--5359\n",
      "* J Glaser, T D Nguyen, J A Anderson, P Liu, F Spiga, J A Millan, D C Morse, and\n",
      "  S C Glotzer. \"Strong scaling of general-purpose molecular dynamics simulations\n",
      "  on GPUs\", Computer Physics Communications 192 (2015) 97--107\n",
      "-----\n",
      "HOOMD-blue is running on the CPU\n",
      "notice(2): Group \"all\" created containing 1000 particles\n",
      "notice(2): constrain.rigid(): Creating 1000 rigid bodies (adding 8000 particles)\n",
      "notice(2): Group \"rigid_center\" created containing 1000 particles\n"
     ]
    }
   ],
   "source": [
    "#-------Define the unit cell\n",
    "\n",
    "hoomd.context.initialize(\"\");\n",
    "\n",
    "uc = hoomd.lattice.unitcell(N = 1,\n",
    "                            a1 = [box, 0, 0],\n",
    "                            a2 = [0, box, 0],\n",
    "                            a3 = [0, 0, box],\n",
    "                            dimensions = 3,\n",
    "                            position = [[0,0,0]],\n",
    "                            type_name = ['M'],\n",
    "                            mass = [1.0],\n",
    "                            moment_inertia = [[0,\n",
    "                                               1/12*1.0*8**2,\n",
    "                                               1/12*1.0*8**2]],\n",
    "                            orientation = [[1, 0, 0, 0]]);\n",
    "\n",
    "#-----From the lattice we obtain a snapshot and initialize.\n",
    "\n",
    "snapshot = uc.get_snapshot()\n",
    "snapshot.replicate(replicates,replicates,replicates)\n",
    "system = hoomd.init.read_snapshot(snapshot)\n",
    "\n",
    "#-----Add the particle type for the constituent particles.\n",
    "\n",
    "system.particles.types.add('A');\n",
    "\n",
    "#-----Define each rigid body type in the local coordinate system of the body.\n",
    "\n",
    "rigid = hoomd.md.constrain.rigid();\n",
    "rigid.set_param('M', \n",
    "                types=['A']*8,\n",
    "                positions=[(-4,0,0),(-3,0,0),(-2,0,0),(-1,0,0),\n",
    "                           (1,0,0),(2,0,0),(3,0,0),(4,0,0)]);\n",
    "\n",
    "#-----Instruct the rigid constraint to create the constituent particles\n",
    "\n",
    "rigid.create_bodies();\n",
    "\n",
    "#-----Define the potential energy\n",
    "\n",
    "nl = hoomd.md.nlist.cell()\n",
    "\n",
    "lj = hoomd.md.pair.lj(r_cut = 3.5, nlist=nl)\n",
    "lj.set_params(mode='shift')\n",
    "\n",
    "#-----Define interaction with species in the binary mixture\n",
    "\n",
    "lj.pair_coeff.set('M','M', epsilon = 1.0, sigma = 1.0)\n",
    "lj.pair_coeff.set('A','A', epsilon = 1.0, sigma = 1.0)\n",
    "lj.pair_coeff.set('M','A', epsilon = 1.0, sigma = 1.0)\n",
    "\n",
    "\n",
    "#-----Select an standard integrator\n",
    "\n",
    "hoomd.md.integrate.mode_standard(dt=0.005);\n",
    "\n",
    "#------Define group\n",
    "\n",
    "mesogens = hoomd.group.rigid_center();\n",
    "\n",
    "#----Integrate using NPT\n",
    "\n",
    "pressure = hoomd.variant.linear_interp(points = [(0,1e-6), (1e4, p_max)])\n",
    "\n",
    "npt = hoomd.md.integrate.npt(group = mesogens, kT = t_max, tau = 0.5, tauP = 1.0, P = pressure);\n",
    "npt.randomize_velocities(seed=42)"
   ]
  },
  {
   "cell_type": "code",
   "execution_count": 4,
   "metadata": {},
   "outputs": [
    {
     "name": "stdout",
     "output_type": "stream",
     "text": [
      "notice(2): -- Neighborlist exclusion statistics -- :\n",
      "notice(2): Particles with 0 exclusions             : 9000\n",
      "notice(2): Neighbors included by diameter          : no\n",
      "notice(2): Neighbors excluded when in the same body: yes\n"
     ]
    }
   ],
   "source": [
    "#-----Write output and Run the Simulation\n",
    "\n",
    "log_file = \"trayectory_T_\" + str(t_max) + \"_P_\" + str(p_max) + \".log\"\n",
    "gsd_file = \"trayectory_T_\" + str(t_max) + \"_P_\" + str(p_max) + \".gsd\"  \n",
    "log = hoomd.analyze.log(filename = log_file,\n",
    "                         quantities = ['num_particles',\n",
    "                                     'ndof',\n",
    "                                     'translational_ndof',\n",
    "                                     'rotational_ndof',\n",
    "                                     'potential_energy',\n",
    "                                     'kinetic_energy',\n",
    "                                     'translational_kinetic_energy',\n",
    "                                     'rotational_kinetic_energy',\n",
    "                                     'temperature',\n",
    "                                     'pressure',\n",
    "                                      'volume'],\n",
    "                         period = 1e3,\n",
    "                         overwrite = True);\n",
    "gsd = hoomd.dump.gsd(gsd_file,\n",
    "               period = 1e3,\n",
    "               group = hoomd.group.all(),\n",
    "               overwrite=True); \n",
    "hoomd.run(50e3,quiet = True)"
   ]
  },
  {
   "cell_type": "code",
   "execution_count": 5,
   "metadata": {},
   "outputs": [],
   "source": [
    "#system.get_metadata()"
   ]
  },
  {
   "cell_type": "code",
   "execution_count": 6,
   "metadata": {},
   "outputs": [],
   "source": [
    "npt.disable()\n",
    "nvt = hoomd.md.integrate.nvt(group = mesogens, kT = t_max, tau = 0.5);\n",
    "hoomd.run(1e5,quiet = True)"
   ]
  },
  {
   "cell_type": "code",
   "execution_count": null,
   "metadata": {},
   "outputs": [],
   "source": []
  }
 ],
 "metadata": {
  "kernelspec": {
   "display_name": "Python 3",
   "language": "python",
   "name": "python3"
  },
  "language_info": {
   "codemirror_mode": {
    "name": "ipython",
    "version": 3
   },
   "file_extension": ".py",
   "mimetype": "text/x-python",
   "name": "python",
   "nbconvert_exporter": "python",
   "pygments_lexer": "ipython3",
   "version": "3.7.3"
  }
 },
 "nbformat": 4,
 "nbformat_minor": 2
}
