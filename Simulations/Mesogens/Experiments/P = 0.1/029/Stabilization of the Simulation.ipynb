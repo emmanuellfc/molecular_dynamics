{
 "cells": [
  {
   "cell_type": "markdown",
   "metadata": {},
   "source": [
    "# Stabilizatión of the simulation"
   ]
  },
  {
   "cell_type": "code",
   "execution_count": 2,
   "metadata": {},
   "outputs": [
    {
     "name": "stdout",
     "output_type": "stream",
     "text": [
      "notice(2): Group \"all\" created containing 9000 particles\n",
      "notice(2): constrain.rigid(): Removing all particles part of rigid bodies (except central particles).Particle tags may change.\n",
      "notice(2): constrain.rigid(): Creating 1000 rigid bodies (adding 8000 particles)\n",
      "-----\n",
      "You are using tree neighbor lists. Please cite the following:\n",
      "* M P Howard, J A Anderson, A Nikoubashman, S C Glotzer, and A Z\n",
      "  Panagiotopoulos. \"Efficient neighbor list calculation for molecular simulation\n",
      "  of colloidal systems using graphics processing units\", Computer Physics\n",
      "  Communications 203 (2016) 45--52\n",
      "-----\n",
      "notice(2): Group \"rigid_center\" created containing 1000 particles\n"
     ]
    }
   ],
   "source": [
    "## -----Import essential packages\n",
    "\n",
    "from __future__ import division\n",
    "import hoomd\n",
    "import hoomd.md\n",
    "\n",
    "#-----Define important variables\n",
    "\n",
    "temp = 9.5\n",
    "pressure = 0.1\n",
    "\n",
    "#-----Start from a gsd file\n",
    "\n",
    "hoomd.context.initialize(\"--mode=cpu\", memory_traceback = True);\n",
    "\n",
    "#-----Select the trayectory of the center of mass of particles\n",
    "\n",
    "system = hoomd.init.read_gsd(\"T_9.5_0.1_ramp.gsd\",frame = -1)\n",
    "\n",
    "#-----Define each rigid body type in the local coordinate system of the body.\n",
    "\n",
    "rigid = hoomd.md.constrain.rigid();\n",
    "rigid.set_param('M', \n",
    "                types=['A']*8,\n",
    "                positions=[(-4,0,0),(-3,0,0),(-2,0,0),(-1,0,0),\n",
    "                           (1,0,0),(2,0,0),(3,0,0),(4,0,0)]);\n",
    "\n",
    "#-----Instruct the rigid constraint to create the constituent particles\n",
    "\n",
    "rigid.create_bodies();\n",
    "\n",
    "#-----Define the potential energy\n",
    "\n",
    "nl = hoomd.md.nlist.tree()\n",
    "\n",
    "lj = hoomd.md.pair.lj(r_cut = 3.5, nlist=nl)\n",
    "lj.set_params(mode='shift')\n",
    "\n",
    "#-----Define interaction with species in the binary mixture\n",
    "\n",
    "lj.pair_coeff.set('M','M', epsilon = 1.0, sigma = 1.0)\n",
    "lj.pair_coeff.set('A','A', epsilon = 1.0, sigma = 1.0)\n",
    "lj.pair_coeff.set('M','A', epsilon = 1.0, sigma = 1.0)\n",
    "\n",
    "#-----Select an standard integrator\n",
    "\n",
    "hoomd.md.integrate.mode_standard(dt = 0.005);\n",
    "\n",
    "#------Define group\n",
    "\n",
    "mesogens = hoomd.group.rigid_center();\n",
    "\n",
    "#----Integrate using NPT\n",
    "\n",
    "npt = hoomd.md.integrate.npt(group = mesogens, kT = temp, tau = 3.0, tauP = 3.0, P = pressure);\n",
    "\n",
    "#-----Write output and Run the Simulation\n",
    "\n",
    "log_file = \"T_\" + str(temp) + \"_\" + str(pressure) + \"_stabilization.log\"\n",
    "gsd_file = \"T_\" + str(temp) + \"_\" + str(pressure) + \"_stabilization.gsd\" \n",
    "meso_gsd_file = \"T_CM_\" + str(temp) + \"_\" + str(pressure) + \"_stabilization.gsd\"\n",
    "log = hoomd.analyze.log(filename = log_file,\n",
    "                         quantities = ['num_particles',\n",
    "                                     'ndof',\n",
    "                                     'translational_ndof',\n",
    "                                     'rotational_ndof',\n",
    "                                     'potential_energy',\n",
    "                                     'kinetic_energy',\n",
    "                                     'translational_kinetic_energy',\n",
    "                                     'rotational_kinetic_energy',\n",
    "                                     'temperature',\n",
    "                                     'pressure',\n",
    "                                      'volume'],\n",
    "                         period = 1e3,\n",
    "                         overwrite = True);\n",
    "gsd = hoomd.dump.gsd(gsd_file,\n",
    "               period = 1e3,\n",
    "               group = hoomd.group.all(),\n",
    "               overwrite=True); \n",
    "meso_gsd = hoomd.dump.gsd(meso_gsd_file,\n",
    "               period = 1e3,\n",
    "               group = mesogens,\n",
    "               overwrite=True); "
   ]
  },
  {
   "cell_type": "code",
   "execution_count": 3,
   "metadata": {},
   "outputs": [
    {
     "name": "stdout",
     "output_type": "stream",
     "text": [
      "notice(2): -- Neighborlist exclusion statistics -- :\n",
      "notice(2): Particles with 0 exclusions             : 9000\n",
      "notice(2): Neighbors included by diameter          : no\n",
      "notice(2): Neighbors excluded when in the same body: yes\n",
      "** starting run **\n",
      "Time 00:00:11 | Step 2224557 / 2524000 | TPS 55.6458 | ETA 01:29:41\n",
      "Time 00:00:21 | Step 2225104 / 2524000 | TPS 54.6955 | ETA 01:31:04\n",
      "Time 00:00:31 | Step 2225785 / 2524000 | TPS 67.9448 | ETA 01:13:09\n",
      "Time 00:00:41 | Step 2226407 / 2524000 | TPS 62.093 | ETA 01:19:52\n",
      "Time 00:00:51 | Step 2227026 / 2524000 | TPS 61.8717 | ETA 01:19:59\n",
      "Time 00:01:01 | Step 2227566 / 2524000 | TPS 53.8621 | ETA 01:31:43\n",
      "Time 00:01:11 | Step 2228165 / 2524000 | TPS 59.8421 | ETA 01:22:23\n",
      "Time 00:01:21 | Step 2228761 / 2524000 | TPS 59.5249 | ETA 01:22:39\n",
      "Time 00:01:31 | Step 2229430 / 2524000 | TPS 66.8899 | ETA 01:13:23\n",
      "Time 00:01:41 | Step 2230035 / 2524000 | TPS 60.3479 | ETA 01:21:11\n",
      "Time 00:01:51 | Step 2230639 / 2524000 | TPS 60.282 | ETA 01:21:06\n",
      "Time 00:02:01 | Step 2231193 / 2524000 | TPS 55.3292 | ETA 01:28:12\n",
      "Time 00:02:11 | Step 2231785 / 2524000 | TPS 59.198 | ETA 01:22:16\n",
      "Time 00:02:21 | Step 2232393 / 2524000 | TPS 60.7363 | ETA 01:20:01\n",
      "Time 00:02:31 | Step 2233045 / 2524000 | TPS 65.1 | ETA 01:14:29\n",
      "Time 00:02:41 | Step 2233665 / 2524000 | TPS 61.8525 | ETA 01:18:13\n",
      "Time 00:02:51 | Step 2234232 / 2524000 | TPS 56.6968 | ETA 01:25:10\n",
      "Time 00:03:01 | Step 2234801 / 2524000 | TPS 56.8548 | ETA 01:24:46\n",
      "Time 00:03:11 | Step 2235389 / 2524000 | TPS 58.6572 | ETA 01:22:00\n",
      "Time 00:03:21 | Step 2236007 / 2524000 | TPS 61.6734 | ETA 01:17:49\n",
      "Time 00:03:31 | Step 2236657 / 2524000 | TPS 64.834 | ETA 01:13:51\n",
      "Time 00:03:41 | Step 2237271 / 2524000 | TPS 61.2896 | ETA 01:17:58\n",
      "Time 00:03:51 | Step 2237833 / 2524000 | TPS 56.0453 | ETA 01:25:05\n",
      "Time 00:04:01 | Step 2238398 / 2524000 | TPS 56.4962 | ETA 01:24:15\n",
      "Time 00:04:11 | Step 2238977 / 2524000 | TPS 57.7509 | ETA 01:22:15\n",
      "Time 00:04:21 | Step 2239635 / 2524000 | TPS 65.7749 | ETA 01:12:03\n",
      "Time 00:04:31 | Step 2240278 / 2524000 | TPS 64.2729 | ETA 01:13:34\n",
      "Time 00:04:41 | Step 2240887 / 2524000 | TPS 60.8428 | ETA 01:17:33\n",
      "Time 00:04:51 | Step 2241442 / 2524000 | TPS 55.4781 | ETA 01:24:53\n",
      "Time 00:05:01 | Step 2242003 / 2524000 | TPS 56.0947 | ETA 01:23:47\n",
      "Time 00:05:11 | Step 2242613 / 2524000 | TPS 60.9003 | ETA 01:17:00\n",
      "Time 00:05:21 | Step 2243265 / 2524000 | TPS 65.182 | ETA 01:11:46\n",
      "Time 00:05:31 | Step 2243901 / 2524000 | TPS 63.5372 | ETA 01:13:28\n",
      "Time 00:05:41 | Step 2244499 / 2524000 | TPS 59.6443 | ETA 01:18:06\n",
      "Time 00:05:51 | Step 2245049 / 2524000 | TPS 54.8938 | ETA 01:24:41\n",
      "Time 00:06:01 | Step 2245619 / 2524000 | TPS 56.903 | ETA 01:21:32\n",
      "Time 00:06:11 | Step 2246227 / 2524000 | TPS 60.6845 | ETA 01:16:17\n",
      "Time 00:06:21 | Step 2246878 / 2524000 | TPS 65.0749 | ETA 01:10:58\n",
      "Time 00:06:31 | Step 2247517 / 2524000 | TPS 63.7569 | ETA 01:12:16\n",
      "Time 00:06:41 | Step 2248111 / 2524000 | TPS 59.2573 | ETA 01:17:35\n",
      "Time 00:06:51 | Step 2248673 / 2524000 | TPS 56.0862 | ETA 01:21:49\n",
      "Time 00:07:01 | Step 2249249 / 2524000 | TPS 57.4493 | ETA 01:19:42\n",
      "Time 00:07:11 | Step 2249868 / 2524000 | TPS 61.8896 | ETA 01:13:49\n"
     ]
    },
    {
     "name": "stderr",
     "output_type": "stream",
     "text": [
      "**ERROR**: nlist.tree(): Particle 694 is out of bounds (x: 240.573, y: -357.293, z: 60.4497, fx: 2.6333, fy: -2.66833, fz:1.03604)\n"
     ]
    },
    {
     "ename": "RuntimeError",
     "evalue": "Error updating neighborlist",
     "output_type": "error",
     "traceback": [
      "\u001b[0;31m---------------------------------------------------------------------------\u001b[0m",
      "\u001b[0;31mRuntimeError\u001b[0m                              Traceback (most recent call last)",
      "\u001b[0;32m<ipython-input-3-63c803886b1c>\u001b[0m in \u001b[0;36m<module>\u001b[0;34m\u001b[0m\n\u001b[0;32m----> 1\u001b[0;31m \u001b[0mhoomd\u001b[0m\u001b[0;34m.\u001b[0m\u001b[0mrun\u001b[0m\u001b[0;34m(\u001b[0m\u001b[0;36m3e5\u001b[0m\u001b[0;34m)\u001b[0m\u001b[0;34m\u001b[0m\u001b[0;34m\u001b[0m\u001b[0m\n\u001b[0m",
      "\u001b[0;32m~/anaconda3/lib/python3.7/site-packages/hoomd/__init__.py\u001b[0m in \u001b[0;36mrun\u001b[0;34m(tsteps, profile, limit_hours, limit_multiple, callback_period, callback, quiet)\u001b[0m\n\u001b[1;32m    199\u001b[0m     \u001b[0;32mif\u001b[0m \u001b[0;32mnot\u001b[0m \u001b[0mquiet\u001b[0m\u001b[0;34m:\u001b[0m\u001b[0;34m\u001b[0m\u001b[0;34m\u001b[0m\u001b[0m\n\u001b[1;32m    200\u001b[0m         \u001b[0mcontext\u001b[0m\u001b[0;34m.\u001b[0m\u001b[0mmsg\u001b[0m\u001b[0;34m.\u001b[0m\u001b[0mnotice\u001b[0m\u001b[0;34m(\u001b[0m\u001b[0;36m1\u001b[0m\u001b[0;34m,\u001b[0m \u001b[0;34m\"** starting run **\\n\"\u001b[0m\u001b[0;34m)\u001b[0m\u001b[0;34m;\u001b[0m\u001b[0;34m\u001b[0m\u001b[0;34m\u001b[0m\u001b[0m\n\u001b[0;32m--> 201\u001b[0;31m     \u001b[0mcontext\u001b[0m\u001b[0;34m.\u001b[0m\u001b[0mcurrent\u001b[0m\u001b[0;34m.\u001b[0m\u001b[0msystem\u001b[0m\u001b[0;34m.\u001b[0m\u001b[0mrun\u001b[0m\u001b[0;34m(\u001b[0m\u001b[0mint\u001b[0m\u001b[0;34m(\u001b[0m\u001b[0mtsteps\u001b[0m\u001b[0;34m)\u001b[0m\u001b[0;34m,\u001b[0m \u001b[0mcallback_period\u001b[0m\u001b[0;34m,\u001b[0m \u001b[0mcallback\u001b[0m\u001b[0;34m,\u001b[0m \u001b[0mlimit_hours\u001b[0m\u001b[0;34m,\u001b[0m \u001b[0mint\u001b[0m\u001b[0;34m(\u001b[0m\u001b[0mlimit_multiple\u001b[0m\u001b[0;34m)\u001b[0m\u001b[0;34m)\u001b[0m\u001b[0;34m;\u001b[0m\u001b[0;34m\u001b[0m\u001b[0;34m\u001b[0m\u001b[0m\n\u001b[0m\u001b[1;32m    202\u001b[0m     \u001b[0;32mif\u001b[0m \u001b[0;32mnot\u001b[0m \u001b[0mquiet\u001b[0m\u001b[0;34m:\u001b[0m\u001b[0;34m\u001b[0m\u001b[0;34m\u001b[0m\u001b[0m\n\u001b[1;32m    203\u001b[0m         \u001b[0mcontext\u001b[0m\u001b[0;34m.\u001b[0m\u001b[0mmsg\u001b[0m\u001b[0;34m.\u001b[0m\u001b[0mnotice\u001b[0m\u001b[0;34m(\u001b[0m\u001b[0;36m1\u001b[0m\u001b[0;34m,\u001b[0m \u001b[0;34m\"** run complete **\\n\"\u001b[0m\u001b[0;34m)\u001b[0m\u001b[0;34m;\u001b[0m\u001b[0;34m\u001b[0m\u001b[0;34m\u001b[0m\u001b[0m\n",
      "\u001b[0;31mRuntimeError\u001b[0m: Error updating neighborlist"
     ]
    }
   ],
   "source": [
    "hoomd.run(3e5)"
   ]
  }
 ],
 "metadata": {
  "kernelspec": {
   "display_name": "Python 3",
   "language": "python",
   "name": "python3"
  },
  "language_info": {
   "codemirror_mode": {
    "name": "ipython",
    "version": 3
   },
   "file_extension": ".py",
   "mimetype": "text/x-python",
   "name": "python",
   "nbconvert_exporter": "python",
   "pygments_lexer": "ipython3",
   "version": "3.7.3"
  }
 },
 "nbformat": 4,
 "nbformat_minor": 2
}
