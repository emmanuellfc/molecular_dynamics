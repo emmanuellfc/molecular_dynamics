{
 "cells": [
  {
   "cell_type": "markdown",
   "metadata": {},
   "source": [
    "# Stabilizatión of the simulation"
   ]
  },
  {
   "cell_type": "code",
   "execution_count": 2,
   "metadata": {},
   "outputs": [
    {
     "name": "stdout",
     "output_type": "stream",
     "text": [
      "notice(2): Group \"all\" created containing 9000 particles\n",
      "notice(2): constrain.rigid(): Removing all particles part of rigid bodies (except central particles).Particle tags may change.\n",
      "notice(2): constrain.rigid(): Creating 1000 rigid bodies (adding 8000 particles)\n",
      "-----\n",
      "You are using tree neighbor lists. Please cite the following:\n",
      "* M P Howard, J A Anderson, A Nikoubashman, S C Glotzer, and A Z\n",
      "  Panagiotopoulos. \"Efficient neighbor list calculation for molecular simulation\n",
      "  of colloidal systems using graphics processing units\", Computer Physics\n",
      "  Communications 203 (2016) 45--52\n",
      "-----\n",
      "notice(2): Group \"rigid_center\" created containing 1000 particles\n"
     ]
    }
   ],
   "source": [
    "## -----Import essential packages\n",
    "\n",
    "from __future__ import division\n",
    "import hoomd\n",
    "import hoomd.md\n",
    "\n",
    "#-----Define important variables\n",
    "\n",
    "temp = 9.5\n",
    "pressure = 0.1\n",
    "\n",
    "#-----Start from a gsd file\n",
    "\n",
    "hoomd.context.initialize(\"--mode=cpu\", memory_traceback = True);\n",
    "\n",
    "#-----Select the trayectory of the center of mass of particles\n",
    "\n",
    "system = hoomd.init.read_gsd(\"T_9.5_0.1_ramp.gsd\",frame = -1)\n",
    "\n",
    "#-----Define each rigid body type in the local coordinate system of the body.\n",
    "\n",
    "rigid = hoomd.md.constrain.rigid();\n",
    "rigid.set_param('M', \n",
    "                types=['A']*8,\n",
    "                positions=[(-4,0,0),(-3,0,0),(-2,0,0),(-1,0,0),\n",
    "                           (1,0,0),(2,0,0),(3,0,0),(4,0,0)]);\n",
    "\n",
    "#-----Instruct the rigid constraint to create the constituent particles\n",
    "\n",
    "rigid.create_bodies();\n",
    "\n",
    "#-----Define the potential energy\n",
    "\n",
    "nl = hoomd.md.nlist.tree()\n",
    "\n",
    "lj = hoomd.md.pair.lj(r_cut = 3.5, nlist=nl)\n",
    "lj.set_params(mode='shift')\n",
    "\n",
    "#-----Define interaction with species in the binary mixture\n",
    "\n",
    "lj.pair_coeff.set('M','M', epsilon = 1.0, sigma = 1.0)\n",
    "lj.pair_coeff.set('A','A', epsilon = 1.0, sigma = 1.0)\n",
    "lj.pair_coeff.set('M','A', epsilon = 1.0, sigma = 1.0)\n",
    "\n",
    "#-----Select an standard integrator\n",
    "\n",
    "hoomd.md.integrate.mode_standard(dt=0.005);\n",
    "\n",
    "#------Define group\n",
    "\n",
    "mesogens = hoomd.group.rigid_center();\n",
    "\n",
    "#----Integrate using NPT\n",
    "\n",
    "npt = hoomd.md.integrate.npt(group = mesogens, kT = temp, tau = 5.0, tauP = 1.5, P = pressure);\n",
    "\n",
    "#-----Write output and Run the Simulation\n",
    "\n",
    "log_file = \"T_\" + str(temp) + \"_\" + str(pressure) + \"_stabilization.log\"\n",
    "gsd_file = \"T_\" + str(temp) + \"_\" + str(pressure) + \"_stabilization.gsd\" \n",
    "meso_gsd_file = \"T_CM_\" + str(temp) + \"_\" + str(pressure) + \"_stabilization.gsd\"\n",
    "log = hoomd.analyze.log(filename = log_file,\n",
    "                         quantities = ['num_particles',\n",
    "                                     'ndof',\n",
    "                                     'translational_ndof',\n",
    "                                     'rotational_ndof',\n",
    "                                     'potential_energy',\n",
    "                                     'kinetic_energy',\n",
    "                                     'translational_kinetic_energy',\n",
    "                                     'rotational_kinetic_energy',\n",
    "                                     'temperature',\n",
    "                                     'pressure',\n",
    "                                      'volume'],\n",
    "                         period = 1e3,\n",
    "                         overwrite = True);\n",
    "gsd = hoomd.dump.gsd(gsd_file,\n",
    "               period = 1e3,\n",
    "               group = hoomd.group.all(),\n",
    "               overwrite=True); \n",
    "meso_gsd = hoomd.dump.gsd(meso_gsd_file,\n",
    "               period = 1e3,\n",
    "               group = mesogens,\n",
    "               overwrite=True); "
   ]
  },
  {
   "cell_type": "code",
   "execution_count": null,
   "metadata": {},
   "outputs": [
    {
     "name": "stdout",
     "output_type": "stream",
     "text": [
      "notice(2): -- Neighborlist exclusion statistics -- :\n",
      "notice(2): Particles with 0 exclusions             : 9000\n",
      "notice(2): Neighbors included by diameter          : no\n",
      "notice(2): Neighbors excluded when in the same body: yes\n",
      "** starting run **\n",
      "Time 00:00:10 | Step 2224521 / 2524000 | TPS 51.898 | ETA 01:36:10\n",
      "Time 00:00:20 | Step 2225100 / 2524000 | TPS 57.8906 | ETA 01:26:03\n",
      "Time 00:00:30 | Step 2225713 / 2524000 | TPS 61.24 | ETA 01:21:10\n",
      "Time 00:00:40 | Step 2226343 / 2524000 | TPS 62.8965 | ETA 01:18:52\n",
      "Time 00:00:50 | Step 2227001 / 2524000 | TPS 65.6323 | ETA 01:15:25\n",
      "Time 00:01:00 | Step 2227652 / 2524000 | TPS 65.0819 | ETA 01:15:53\n",
      "Time 00:01:10 | Step 2228272 / 2524000 | TPS 61.9899 | ETA 01:19:30\n",
      "Time 00:01:20 | Step 2228859 / 2524000 | TPS 58.6738 | ETA 01:23:50\n",
      "Time 00:01:30 | Step 2229425 / 2524000 | TPS 56.565 | ETA 01:26:47\n",
      "Time 00:01:40 | Step 2229985 / 2524000 | TPS 55.8527 | ETA 01:27:44\n",
      "Time 00:01:50 | Step 2230551 / 2524000 | TPS 56.537 | ETA 01:26:30\n",
      "Time 00:02:00 | Step 2231149 / 2524000 | TPS 59.7874 | ETA 01:21:38\n",
      "Time 00:02:10 | Step 2231782 / 2524000 | TPS 63.2813 | ETA 01:16:57\n",
      "Time 00:03:20 | Step 2232201 / 2524000 | TPS 5.94392 | ETA 13:38:12\n",
      "Time 00:04:24 | Step 2232301 / 2524000 | TPS 1.56263 | ETA 51:51:12\n",
      "Time 00:05:39 | Step 2232401 / 2524000 | TPS 1.3442 | ETA 60:15:30\n",
      "Time 00:07:02 | Step 2232501 / 2524000 | TPS 1.20919 | ETA 66:57:48\n",
      "Time 00:08:41 | Step 2232601 / 2524000 | TPS 1.00925 | ETA 80:12:09\n"
     ]
    }
   ],
   "source": [
    "hoomd.run(3e5)"
   ]
  }
 ],
 "metadata": {
  "kernelspec": {
   "display_name": "Python 3",
   "language": "python",
   "name": "python3"
  },
  "language_info": {
   "codemirror_mode": {
    "name": "ipython",
    "version": 3
   },
   "file_extension": ".py",
   "mimetype": "text/x-python",
   "name": "python",
   "nbconvert_exporter": "python",
   "pygments_lexer": "ipython3",
   "version": "3.7.3"
  }
 },
 "nbformat": 4,
 "nbformat_minor": 2
}
