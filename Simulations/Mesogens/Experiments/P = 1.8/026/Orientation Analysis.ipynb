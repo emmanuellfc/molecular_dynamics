{
 "cells": [
  {
   "cell_type": "markdown",
   "metadata": {},
   "source": [
    "# Orientation Analysus"
   ]
  },
  {
   "cell_type": "code",
   "execution_count": 18,
   "metadata": {},
   "outputs": [],
   "source": [
    "import gsd\n",
    "import gsd.hoomd\n",
    "import numpy\n",
    "from matplotlib import pyplot"
   ]
  },
  {
   "cell_type": "code",
   "execution_count": 19,
   "metadata": {},
   "outputs": [],
   "source": [
    "# To show orientations, we use arrows rotated by the quaternions.\n",
    "from mpl_toolkits.mplot3d.axes3d import Axes3D\n",
    "\n",
    "# These functions are adapted from the rowan quaternion library.\n",
    "# See rowan.readthedocs.io for more information.\n",
    "def quat_multiply(qi, qj):\n",
    "    \"\"\"Multiply two sets of quaternions.\"\"\"\n",
    "    output = numpy.empty(numpy.broadcast(qi, qj).shape)\n",
    "\n",
    "    output[..., 0] = qi[..., 0] * qj[..., 0] - \\\n",
    "        numpy.sum(qi[..., 1:] * qj[..., 1:], axis=-1)\n",
    "    output[..., 1:] = (qi[..., 0, numpy.newaxis] * qj[..., 1:] +\n",
    "                       qj[..., 0, numpy.newaxis] * qi[..., 1:] +\n",
    "                       numpy.cross(qi[..., 1:], qj[..., 1:]))\n",
    "    return output\n",
    "\n",
    "def quat_rotate(q, v):\n",
    "    \"\"\"Rotate a vector by a quaternion.\"\"\"\n",
    "    v = numpy.array([0, *v])\n",
    "    \n",
    "    q_conj = q.copy()\n",
    "    q_conj[..., 1:] *= -1\n",
    "    \n",
    "    return quat_multiply(q, quat_multiply(v, q_conj))[..., 1:]"
   ]
  },
  {
   "cell_type": "code",
   "execution_count": 20,
   "metadata": {},
   "outputs": [],
   "source": [
    "def orientationPlot(step, t):\n",
    "    L = t[0].particles.N\n",
    "    positions = t[step].particles.position[0:L];\n",
    "    \n",
    "    orientations = t[step].particles.orientation[0:L]\n",
    "    arrowheads = quat_rotate(orientations, numpy.array([1, 0, 0]))\n",
    "\n",
    "    fig = pyplot.figure()\n",
    "    ax = fig.add_subplot(111, projection='3d')\n",
    "    ax.quiver3D(positions[:, 0], positions[:, 1], positions[:, 2],\n",
    "                arrowheads[:, 0], arrowheads[:, 1], arrowheads[:, 2])\n",
    "    ax.set_title(\"Orientations\", fontsize=16);"
   ]
  },
  {
   "cell_type": "code",
   "execution_count": 21,
   "metadata": {},
   "outputs": [],
   "source": [
    "def nematization(step, t):\n",
    "        Q = nematicOrderTensor(step,t)\n",
    "        \n",
    "        eigen_values, eigen_vectors = numpy.linalg.eig(Q)\n",
    "        idx = eigen_values.argsort()[::-1]   \n",
    "        \n",
    "        eigen_values = eigen_values[idx]\n",
    "       \n",
    "        return(1.5*eigen_values[0])"
   ]
  },
  {
   "cell_type": "code",
   "execution_count": 22,
   "metadata": {},
   "outputs": [],
   "source": [
    "def nematicOrderTensor(step, t):\n",
    " \n",
    "    L = t[0].particles.N\n",
    "    quaternions = t[step].particles.orientation[0:L]\n",
    "    arrowheads = quat_rotate(quaternions, numpy.array([1, 0, 0]))\n",
    "    \n",
    "    \n",
    "    results = []\n",
    "    for i in range(5):\n",
    "        results.append( numpy.outer(arrowheads[i],arrowheads[i])  )\n",
    "        \n",
    "    Q = numpy.mean(results, axis=0)  # calculate mean without flattening array\n",
    "    Q -= numpy.identity(3)/3.0       # subtract Identity/3\n",
    "    \n",
    "    return(Q)"
   ]
  },
  {
   "cell_type": "code",
   "execution_count": 23,
   "metadata": {},
   "outputs": [],
   "source": [
    "def sList(t):\n",
    "\n",
    "    s = []\n",
    "    for i in range(len(t)):\n",
    "        s.append(nematization(i,t))\n",
    "        \n",
    "    return(s)"
   ]
  },
  {
   "cell_type": "code",
   "execution_count": 24,
   "metadata": {},
   "outputs": [],
   "source": [
    "t1 = gsd.hoomd.open(\"T_5.0_P_1.4_ramp.gsd\", 'rb')"
   ]
  },
  {
   "cell_type": "code",
   "execution_count": 25,
   "metadata": {},
   "outputs": [
    {
     "data": {
      "text/plain": [
       "(0, 1.1)"
      ]
     },
     "execution_count": 25,
     "metadata": {},
     "output_type": "execute_result"
    },
    {
     "data": {
      "image/png": "[encoded data removed]",
      "text/plain": [
       "<Figure size 560x308 with 1 Axes>"
      ]
     },
     "metadata": {
      "needs_background": "light"
     },
     "output_type": "display_data"
    }
   ],
   "source": [
    "pyplot.figure(figsize=(4,2.2), dpi=140);\n",
    "\n",
    "s1= sList(t1)\n",
    "\n",
    "pyplot.plot(\n",
    "    numpy.arange(len(s1)), \n",
    "    s1);\n",
    "\n",
    "pyplot.xlabel('sample');\n",
    "pyplot.ylabel('S');\n",
    "pyplot.ylim((0,1.1))"
   ]
  },
  {
   "cell_type": "code",
   "execution_count": 26,
   "metadata": {},
   "outputs": [],
   "source": [
    "mean_s = numpy.mean(s1);\n",
    "std_s = numpy.std(s1);"
   ]
  },
  {
   "cell_type": "markdown",
   "metadata": {},
   "source": [
    "## Order Parameter"
   ]
  },
  {
   "cell_type": "code",
   "execution_count": 27,
   "metadata": {},
   "outputs": [
    {
     "name": "stdout",
     "output_type": "stream",
     "text": [
      "S = 0.9616481570962271 +- 0.02174725142232183\n"
     ]
    }
   ],
   "source": [
    "print(\"S =\", mean_s,\"+-\",std_s)"
   ]
  }
 ],
 "metadata": {
  "kernelspec": {
   "display_name": "Python 3",
   "language": "python",
   "name": "python3"
  },
  "language_info": {
   "codemirror_mode": {
    "name": "ipython",
    "version": 3
   },
   "file_extension": ".py",
   "mimetype": "text/x-python",
   "name": "python",
   "nbconvert_exporter": "python",
   "pygments_lexer": "ipython3",
   "version": "3.7.3"
  }
 },
 "nbformat": 4,
 "nbformat_minor": 4
}
