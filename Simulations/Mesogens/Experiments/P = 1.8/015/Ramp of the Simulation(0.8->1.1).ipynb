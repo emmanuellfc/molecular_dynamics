{
 "cells": [
  {
   "cell_type": "markdown",
   "metadata": {},
   "source": [
    "# Ramp of the simulation"
   ]
  },
  {
   "cell_type": "code",
   "execution_count": 1,
   "metadata": {},
   "outputs": [
    {
     "name": "stdout",
     "output_type": "stream",
     "text": [
      "HOOMD-blue 2.6.0 DOUBLE HPMC_MIXED TBB SSE SSE2 SSE3 \n",
      "Compiled: 05/29/2019\n",
      "Copyright (c) 2009-2019 The Regents of the University of Michigan.\n",
      "-----\n",
      "You are using HOOMD-blue. Please cite the following:\n",
      "* J A Anderson, C D Lorenz, and A Travesset. \"General purpose molecular dynamics\n",
      "  simulations fully implemented on graphics processing units\", Journal of\n",
      "  Computational Physics 227 (2008) 5342--5359\n",
      "* J Glaser, T D Nguyen, J A Anderson, P Liu, F Spiga, J A Millan, D C Morse, and\n",
      "  S C Glotzer. \"Strong scaling of general-purpose molecular dynamics simulations\n",
      "  on GPUs\", Computer Physics Communications 192 (2015) 97--107\n",
      "-----\n",
      "HOOMD-blue is running on the CPU\n",
      "notice(2): Group \"all\" created containing 9000 particles\n",
      "notice(2): constrain.rigid(): Removing all particles part of rigid bodies (except central particles).Particle tags may change.\n",
      "notice(2): constrain.rigid(): Creating 1000 rigid bodies (adding 8000 particles)\n",
      "-----\n",
      "You are using tree neighbor lists. Please cite the following:\n",
      "* M P Howard, J A Anderson, A Nikoubashman, S C Glotzer, and A Z\n",
      "  Panagiotopoulos. \"Efficient neighbor list calculation for molecular simulation\n",
      "  of colloidal systems using graphics processing units\", Computer Physics\n",
      "  Communications 203 (2016) 45--52\n",
      "-----\n",
      "notice(2): Group \"rigid_center\" created containing 1000 particles\n"
     ]
    }
   ],
   "source": [
    "#-----Importa paquetes escenciales\n",
    "\n",
    "from __future__ import division\n",
    "import hoomd\n",
    "import hoomd.md\n",
    "\n",
    "#-----Define las variables importantes\n",
    "\n",
    "p_prev = 0.8;\n",
    "p_new = 1.1;\n",
    "t_max = 5.0 ;\n",
    "time_steps = 1.5e5; \n",
    "\n",
    "#-----Crea un contexto de simulación\n",
    "\n",
    "hoomd.context.initialize(\"--mode=cpu\", memory_traceback = True);\n",
    "\n",
    "#-----Extrae la configuración del centro de masa de las partículas\n",
    "\n",
    "system = hoomd.init.read_gsd(\"T_5.0_P_0.8_ramp.gsd\",frame = -1)\n",
    "\n",
    "#-----Define cada mesógeno en el marco de referencia local de cada centro de masa.\n",
    "\n",
    "rigid = hoomd.md.constrain.rigid();\n",
    "rigid.set_param('M', \n",
    "                types=['A']*8,\n",
    "                positions=[(-4,0,0),(-3,0,0),(-2,0,0),(-1,0,0),\n",
    "                           (1,0,0),(2,0,0),(3,0,0),(4,0,0)]);\n",
    "\n",
    "#-----Declara que las moléculas creadas son cuerpos rígidos\n",
    "\n",
    "rigid.create_bodies();\n",
    "\n",
    "#-----Define la energía potencial\n",
    "\n",
    "nl = hoomd.md.nlist.tree()\n",
    "\n",
    "lj = hoomd.md.pair.lj(r_cut = 3.5, nlist=nl)\n",
    "lj.set_params(mode='shift')\n",
    "\n",
    "#-----Define la interacción entre las especies de la simulación\n",
    "\n",
    "lj.pair_coeff.set('M','M', epsilon = 1.0, sigma = 1.0)\n",
    "lj.pair_coeff.set('A','A', epsilon = 1.0, sigma = 1.0)\n",
    "lj.pair_coeff.set('M','A', epsilon = 1.0, sigma = 1.0)\n",
    "\n",
    "#-----Selecciona un integrador standard\n",
    "\n",
    "hoomd.md.integrate.mode_standard(dt = 0.005);\n",
    "\n",
    "#------Define el grupo sobre el cual se integraran las ecuaciones de movimiento\n",
    "\n",
    "mesogens = hoomd.group.rigid_center();\n",
    "\n",
    "#----Integra usando un NPT\n",
    "\n",
    "pressure = hoomd.variant.linear_interp(points = [(0,p_prev), (time_steps, p_new)])\n",
    "\n",
    "npt = hoomd.md.integrate.npt(group = mesogens, kT = t_max , tau = 1.0, tauP = 2.5, P = pressure);\n",
    "\n",
    "#-----Guarda la información de la simulación en un archivo .log y en un .gsd\n",
    "\n",
    "log_file = \"T_\" + str(t_max) + \"_P_\" + str(p_new) + \"_ramp.log\"\n",
    "gsd_file = \"T_\" + str(t_max) + \"_P_\" + str(p_new) + \"_ramp.gsd\" \n",
    "meso_gsd_file = \"T_CM_\" + str(t_max) + \"_P_\" + str(p_new) + \"_ramp.gsd\"\n",
    "log = hoomd.analyze.log(filename = log_file,\n",
    "                         quantities = ['num_particles',\n",
    "                                     'ndof',\n",
    "                                     'translational_ndof',\n",
    "                                     'rotational_ndof',\n",
    "                                     'potential_energy',\n",
    "                                     'kinetic_energy',\n",
    "                                     'translational_kinetic_energy',\n",
    "                                     'rotational_kinetic_energy',\n",
    "                                     'temperature',\n",
    "                                     'pressure',\n",
    "                                      'volume'],\n",
    "                         period = 1e3,\n",
    "                         overwrite = True);\n",
    "gsd = hoomd.dump.gsd(gsd_file,\n",
    "               period = 1e3,\n",
    "               group = hoomd.group.all(),\n",
    "               overwrite=True); \n",
    "meso_gsd = hoomd.dump.gsd(meso_gsd_file,\n",
    "               period = 1e3,\n",
    "               group = mesogens,\n",
    "               overwrite=True); "
   ]
  },
  {
   "cell_type": "code",
   "execution_count": 2,
   "metadata": {},
   "outputs": [
    {
     "data": {
      "text/plain": [
       "OrderedDict([('box', <hoomd.data.boxdim at 0x1035d3b70>),\n",
       "             ('particles', <hoomd.data.particle_data at 0x1056df080>),\n",
       "             ('number_density', 0.45645948385216994),\n",
       "             ('bonds', <hoomd.data.bond_data at 0x1056df128>),\n",
       "             ('angles', <hoomd.data.angle_data at 0x1056df198>),\n",
       "             ('dihedrals', <hoomd.data.dihedral_data at 0x1056df208>),\n",
       "             ('impropers', <hoomd.data.dihedral_data at 0x1056df278>),\n",
       "             ('constraints', <hoomd.data.constraint_data at 0x1056df2e8>),\n",
       "             ('pairs', <hoomd.data.bond_data at 0x1056df358>),\n",
       "             ('timestep', 484000)])"
      ]
     },
     "execution_count": 2,
     "metadata": {},
     "output_type": "execute_result"
    }
   ],
   "source": [
    "system.get_metadata()"
   ]
  },
  {
   "cell_type": "code",
   "execution_count": null,
   "metadata": {},
   "outputs": [
    {
     "name": "stdout",
     "output_type": "stream",
     "text": [
      "notice(2): -- Neighborlist exclusion statistics -- :\n",
      "notice(2): Particles with 0 exclusions             : 9000\n",
      "notice(2): Neighbors included by diameter          : no\n",
      "notice(2): Neighbors excluded when in the same body: yes\n",
      "** starting run **\n",
      "Time 00:00:10 | Step 484243 / 634000 | TPS 24.1495 | ETA 01:43:21\n",
      "Time 00:00:20 | Step 484498 / 634000 | TPS 25.3861 | ETA 01:38:09\n",
      "Time 00:00:30 | Step 484744 / 634000 | TPS 24.4627 | ETA 01:41:41\n",
      "Time 00:00:40 | Step 485016 / 634000 | TPS 27.1192 | ETA 01:31:33\n",
      "Time 00:00:50 | Step 485270 / 634000 | TPS 25.385 | ETA 01:37:38\n",
      "Time 00:01:00 | Step 485522 / 634000 | TPS 25.0059 | ETA 01:38:57\n",
      "Time 00:01:10 | Step 485777 / 634000 | TPS 25.359 | ETA 01:37:24\n",
      "Time 00:01:20 | Step 486034 / 634000 | TPS 25.5783 | ETA 01:36:24\n",
      "Time 00:01:30 | Step 486301 / 634000 | TPS 26.5124 | ETA 01:32:50\n"
     ]
    }
   ],
   "source": [
    "hoomd.run(time_steps)"
   ]
  },
  {
   "cell_type": "code",
   "execution_count": null,
   "metadata": {},
   "outputs": [],
   "source": []
  }
 ],
 "metadata": {
  "kernelspec": {
   "display_name": "Python 3",
   "language": "python",
   "name": "python3"
  },
  "language_info": {
   "codemirror_mode": {
    "name": "ipython",
    "version": 3
   },
   "file_extension": ".py",
   "mimetype": "text/x-python",
   "name": "python",
   "nbconvert_exporter": "python",
   "pygments_lexer": "ipython3",
   "version": "3.7.3"
  }
 },
 "nbformat": 4,
 "nbformat_minor": 4
}
