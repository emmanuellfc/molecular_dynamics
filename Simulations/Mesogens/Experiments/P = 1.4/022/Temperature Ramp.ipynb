{
 "cells": [
  {
   "cell_type": "markdown",
   "metadata": {},
   "source": [
    "## Temperature Ramp (5.0 -> 5.2)"
   ]
  },
  {
   "cell_type": "code",
   "execution_count": 1,
   "metadata": {},
   "outputs": [
    {
     "name": "stdout",
     "output_type": "stream",
     "text": [
      "HOOMD-blue 2.6.0 DOUBLE HPMC_MIXED TBB SSE SSE2 SSE3 \n",
      "Compiled: 05/29/2019\n",
      "Copyright (c) 2009-2019 The Regents of the University of Michigan.\n",
      "-----\n",
      "You are using HOOMD-blue. Please cite the following:\n",
      "* J A Anderson, C D Lorenz, and A Travesset. \"General purpose molecular dynamics\n",
      "  simulations fully implemented on graphics processing units\", Journal of\n",
      "  Computational Physics 227 (2008) 5342--5359\n",
      "* J Glaser, T D Nguyen, J A Anderson, P Liu, F Spiga, J A Millan, D C Morse, and\n",
      "  S C Glotzer. \"Strong scaling of general-purpose molecular dynamics simulations\n",
      "  on GPUs\", Computer Physics Communications 192 (2015) 97--107\n",
      "-----\n",
      "HOOMD-blue is running on the CPU\n",
      "notice(2): Group \"all\" created containing 1000 particles\n",
      "notice(2): constrain.rigid(): Creating 1000 rigid bodies (adding 8000 particles)\n",
      "-----\n",
      "You are using tree neighbor lists. Please cite the following:\n",
      "* M P Howard, J A Anderson, A Nikoubashman, S C Glotzer, and A Z\n",
      "  Panagiotopoulos. \"Efficient neighbor list calculation for molecular simulation\n",
      "  of colloidal systems using graphics processing units\", Computer Physics\n",
      "  Communications 203 (2016) 45--52\n",
      "-----\n",
      "notice(2): Group \"rigid_center\" created containing 1000 particles\n"
     ]
    }
   ],
   "source": [
    "#-----Import some essential packages\n",
    "\n",
    "from __future__ import division\n",
    "import hoomd\n",
    "import hoomd.md\n",
    "\n",
    "#-----Some important variables\n",
    "\n",
    "t_0 = 5.0;\n",
    "t_1 = 5.2;\n",
    "p_max  = 1.4;\n",
    "steps_ramp = 1e5;\n",
    "\n",
    "#-----Crea un contexto de simulación\n",
    "\n",
    "hoomd.context.initialize(\"--mode=cpu\", memory_traceback = True);\n",
    "\n",
    "#-----Extrae la configuración del centro de masa de las partículas\n",
    "\n",
    "system = hoomd.init.read_gsd(\"T_CM_5.0_P_1.4_equilibrium.gsd\",frame = -1)\n",
    "\n",
    "#-----Define cada mesógeno en el marco de referencia local de cada centro de masa.\n",
    "\n",
    "rigid = hoomd.md.constrain.rigid();\n",
    "rigid.set_param('M', \n",
    "                types=['A']*8,\n",
    "                positions=[(-4,0,0),(-3,0,0),(-2,0,0),(-1,0,0),\n",
    "                           (1,0,0),(2,0,0),(3,0,0),(4,0,0)]);\n",
    "\n",
    "#-----Declara que las moléculas creadas son cuerpos rígidos\n",
    "\n",
    "rigid.create_bodies();\n",
    "\n",
    "#-----Define la energía potencial\n",
    "\n",
    "nl = hoomd.md.nlist.tree();\n",
    "\n",
    "lj = hoomd.md.pair.lj(r_cut = 3.5, nlist = nl)\n",
    "lj.set_params(mode='shift')\n",
    "\n",
    "#-----Define la interacción entre las especies de la simulación\n",
    "\n",
    "lj.pair_coeff.set('M','M', epsilon = 1.0, sigma = 1.0)\n",
    "lj.pair_coeff.set('A','A', epsilon = 1.0, sigma = 1.0)\n",
    "lj.pair_coeff.set('M','A', epsilon = 1.0, sigma = 1.0)\n",
    "\n",
    "#-----Selecciona un integrador standard\n",
    "\n",
    "hoomd.md.integrate.mode_standard(dt = 0.005);\n",
    "\n",
    "#------Define el grupo sobre el cual se integraran las ecuaciones de movimiento\n",
    "\n",
    "mesogens = hoomd.group.rigid_center();"
   ]
  },
  {
   "cell_type": "code",
   "execution_count": 2,
   "metadata": {
    "scrolled": true
   },
   "outputs": [],
   "source": [
    "#----Integrate using NPT\n",
    "\n",
    "temp = hoomd.variant.linear_interp(points = [(0,t_0), (steps_ramp, t_1)])\n",
    "\n",
    "npt = hoomd.md.integrate.npt(group = mesogens, kT = temp, tau = 1.0, tauP = 11.0, P = p_max);\n",
    "npt.randomize_velocities(seed = 42)\n",
    "\n",
    "#-----Write output and Run the Simulation\n",
    "\n",
    "log_file = \"T_\" + str(t_1) + \"_P_\" + str(p_max) + \"_ramp.log\"\n",
    "gsd_file = \"T_\" + str(t_1) + \"_P_\" + str(p_max) + \"_ramp.gsd\" \n",
    "meso_gsd_file = \"T_CM_\" + str(t_1) + \"_P_\" + str(p_max) + \"_ramp.gsd\"\n",
    "\n",
    "log = hoomd.analyze.log(filename = log_file,\n",
    "                         quantities = ['num_particles',\n",
    "                                     'ndof',\n",
    "                                     'translational_ndof',\n",
    "                                     'rotational_ndof',\n",
    "                                     'potential_energy',\n",
    "                                     'kinetic_energy',\n",
    "                                     'translational_kinetic_energy',\n",
    "                                     'rotational_kinetic_energy',\n",
    "                                     'temperature',\n",
    "                                     'pressure',\n",
    "                                      'volume'],\n",
    "                         period = 1e3,\n",
    "                         overwrite = True);\n",
    "gsd = hoomd.dump.gsd(gsd_file,\n",
    "               period = 1e3,\n",
    "               group = hoomd.group.all(),\n",
    "               overwrite = True); \n",
    "meso_gsd = hoomd.dump.gsd(meso_gsd_file,\n",
    "               period = 1e3,\n",
    "               group = mesogens,\n",
    "               overwrite = True); "
   ]
  },
  {
   "cell_type": "code",
   "execution_count": 3,
   "metadata": {
    "scrolled": true
   },
   "outputs": [
    {
     "name": "stdout",
     "output_type": "stream",
     "text": [
      "notice(2): -- Neighborlist exclusion statistics -- :\n",
      "notice(2): Particles with 0 exclusions             : 9000\n",
      "notice(2): Neighbors included by diameter          : no\n",
      "notice(2): Neighbors excluded when in the same body: yes\n",
      "** starting run **\n",
      "Time 00:00:10 | Step 955117 / 1055000 | TPS 11.6602 | ETA 02:22:46\n",
      "Time 00:00:20 | Step 955232 / 1055000 | TPS 11.4846 | ETA 02:24:47\n",
      "Time 00:00:30 | Step 955350 / 1055000 | TPS 11.6631 | ETA 02:22:24\n",
      "Time 00:00:40 | Step 955482 / 1055000 | TPS 13.0438 | ETA 02:07:09\n",
      "Time 00:00:50 | Step 955634 / 1055000 | TPS 15.0538 | ETA 01:50:00\n",
      "Time 00:01:00 | Step 955793 / 1055000 | TPS 15.7549 | ETA 01:44:56\n",
      "Time 00:01:10 | Step 955937 / 1055000 | TPS 14.3948 | ETA 01:54:41\n",
      "Time 00:01:20 | Step 956060 / 1055000 | TPS 12.1694 | ETA 02:15:30\n",
      "Time 00:01:30 | Step 956199 / 1055000 | TPS 13.8627 | ETA 01:58:47\n",
      "Time 00:01:40 | Step 956367 / 1055000 | TPS 16.7646 | ETA 01:38:03\n",
      "Time 00:01:50 | Step 956543 / 1055000 | TPS 17.3952 | ETA 01:34:20\n",
      "Time 00:02:00 | Step 956709 / 1055000 | TPS 16.5812 | ETA 01:38:47\n",
      "Time 00:02:10 | Step 956859 / 1055000 | TPS 14.9557 | ETA 01:49:22\n",
      "Time 00:02:20 | Step 957005 / 1055000 | TPS 14.5807 | ETA 01:52:00\n",
      "Time 00:02:30 | Step 957171 / 1055000 | TPS 16.5132 | ETA 01:38:44\n",
      "Time 00:02:40 | Step 957340 / 1055000 | TPS 16.8973 | ETA 01:36:19\n",
      "Time 00:02:50 | Step 957502 / 1055000 | TPS 16.1789 | ETA 01:40:26\n",
      "Time 00:03:00 | Step 957658 / 1055000 | TPS 15.5711 | ETA 01:44:11\n",
      "Time 00:03:11 | Step 957804 / 1055000 | TPS 14.5264 | ETA 01:51:31\n",
      "Time 00:03:21 | Step 957950 / 1055000 | TPS 14.4781 | ETA 01:51:43\n",
      "Time 00:03:31 | Step 958114 / 1055000 | TPS 16.3579 | ETA 01:38:42\n",
      "Time 00:03:41 | Step 958282 / 1055000 | TPS 16.6936 | ETA 01:36:33\n",
      "Time 00:03:51 | Step 958443 / 1055000 | TPS 16.0383 | ETA 01:40:20\n",
      "Time 00:04:01 | Step 958592 / 1055000 | TPS 14.8579 | ETA 01:48:08\n",
      "Time 00:04:11 | Step 958741 / 1055000 | TPS 14.76 | ETA 01:48:41\n",
      "Time 00:04:21 | Step 958904 / 1055000 | TPS 16.2101 | ETA 01:38:48\n",
      "Time 00:04:31 | Step 959073 / 1055000 | TPS 16.7656 | ETA 01:35:21\n",
      "Time 00:04:41 | Step 959237 / 1055000 | TPS 16.3697 | ETA 01:37:30\n"
     ]
    },
    {
     "name": "stderr",
     "output_type": "stream",
     "text": [
      "**ERROR**: nlist.tree(): Particle 431 is out of bounds (x: 10.2889, y: 26.6665, z: -8.97427, fx: 0.952223, fy: 1.67206, fz:0.10556)\n"
     ]
    },
    {
     "ename": "RuntimeError",
     "evalue": "Error updating neighborlist",
     "output_type": "error",
     "traceback": [
      "\u001b[0;31m---------------------------------------------------------------------------\u001b[0m",
      "\u001b[0;31mRuntimeError\u001b[0m                              Traceback (most recent call last)",
      "\u001b[0;32m<ipython-input-3-40116ca7add2>\u001b[0m in \u001b[0;36m<module>\u001b[0;34m\u001b[0m\n\u001b[0;32m----> 1\u001b[0;31m \u001b[0mhoomd\u001b[0m\u001b[0;34m.\u001b[0m\u001b[0mrun\u001b[0m\u001b[0;34m(\u001b[0m\u001b[0msteps_ramp\u001b[0m\u001b[0;34m)\u001b[0m\u001b[0;34m\u001b[0m\u001b[0;34m\u001b[0m\u001b[0m\n\u001b[0m",
      "\u001b[0;32m~/anaconda3/lib/python3.7/site-packages/hoomd/__init__.py\u001b[0m in \u001b[0;36mrun\u001b[0;34m(tsteps, profile, limit_hours, limit_multiple, callback_period, callback, quiet)\u001b[0m\n\u001b[1;32m    199\u001b[0m     \u001b[0;32mif\u001b[0m \u001b[0;32mnot\u001b[0m \u001b[0mquiet\u001b[0m\u001b[0;34m:\u001b[0m\u001b[0;34m\u001b[0m\u001b[0;34m\u001b[0m\u001b[0m\n\u001b[1;32m    200\u001b[0m         \u001b[0mcontext\u001b[0m\u001b[0;34m.\u001b[0m\u001b[0mmsg\u001b[0m\u001b[0;34m.\u001b[0m\u001b[0mnotice\u001b[0m\u001b[0;34m(\u001b[0m\u001b[0;36m1\u001b[0m\u001b[0;34m,\u001b[0m \u001b[0;34m\"** starting run **\\n\"\u001b[0m\u001b[0;34m)\u001b[0m\u001b[0;34m;\u001b[0m\u001b[0;34m\u001b[0m\u001b[0;34m\u001b[0m\u001b[0m\n\u001b[0;32m--> 201\u001b[0;31m     \u001b[0mcontext\u001b[0m\u001b[0;34m.\u001b[0m\u001b[0mcurrent\u001b[0m\u001b[0;34m.\u001b[0m\u001b[0msystem\u001b[0m\u001b[0;34m.\u001b[0m\u001b[0mrun\u001b[0m\u001b[0;34m(\u001b[0m\u001b[0mint\u001b[0m\u001b[0;34m(\u001b[0m\u001b[0mtsteps\u001b[0m\u001b[0;34m)\u001b[0m\u001b[0;34m,\u001b[0m \u001b[0mcallback_period\u001b[0m\u001b[0;34m,\u001b[0m \u001b[0mcallback\u001b[0m\u001b[0;34m,\u001b[0m \u001b[0mlimit_hours\u001b[0m\u001b[0;34m,\u001b[0m \u001b[0mint\u001b[0m\u001b[0;34m(\u001b[0m\u001b[0mlimit_multiple\u001b[0m\u001b[0;34m)\u001b[0m\u001b[0;34m)\u001b[0m\u001b[0;34m;\u001b[0m\u001b[0;34m\u001b[0m\u001b[0;34m\u001b[0m\u001b[0m\n\u001b[0m\u001b[1;32m    202\u001b[0m     \u001b[0;32mif\u001b[0m \u001b[0;32mnot\u001b[0m \u001b[0mquiet\u001b[0m\u001b[0;34m:\u001b[0m\u001b[0;34m\u001b[0m\u001b[0;34m\u001b[0m\u001b[0m\n\u001b[1;32m    203\u001b[0m         \u001b[0mcontext\u001b[0m\u001b[0;34m.\u001b[0m\u001b[0mmsg\u001b[0m\u001b[0;34m.\u001b[0m\u001b[0mnotice\u001b[0m\u001b[0;34m(\u001b[0m\u001b[0;36m1\u001b[0m\u001b[0;34m,\u001b[0m \u001b[0;34m\"** run complete **\\n\"\u001b[0m\u001b[0;34m)\u001b[0m\u001b[0;34m;\u001b[0m\u001b[0;34m\u001b[0m\u001b[0;34m\u001b[0m\u001b[0m\n",
      "\u001b[0;31mRuntimeError\u001b[0m: Error updating neighborlist"
     ]
    }
   ],
   "source": [
    "hoomd.run(steps_ramp)"
   ]
  },
  {
   "cell_type": "code",
   "execution_count": null,
   "metadata": {},
   "outputs": [],
   "source": [
    "system.get_metadata()"
   ]
  }
 ],
 "metadata": {
  "kernelspec": {
   "display_name": "Python 3",
   "language": "python",
   "name": "python3"
  },
  "language_info": {
   "codemirror_mode": {
    "name": "ipython",
    "version": 3
   },
   "file_extension": ".py",
   "mimetype": "text/x-python",
   "name": "python",
   "nbconvert_exporter": "python",
   "pygments_lexer": "ipython3",
   "version": "3.7.3"
  }
 },
 "nbformat": 4,
 "nbformat_minor": 4
}
