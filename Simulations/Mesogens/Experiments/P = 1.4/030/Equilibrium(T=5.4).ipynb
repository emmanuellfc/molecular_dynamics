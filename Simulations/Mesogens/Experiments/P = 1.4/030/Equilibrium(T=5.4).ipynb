{
 "cells": [
  {
   "cell_type": "markdown",
   "metadata": {},
   "source": [
    "## Stabilization, P = 1.4"
   ]
  },
  {
   "cell_type": "code",
   "execution_count": null,
   "metadata": {},
   "outputs": [],
   "source": [
    "#-----Import some essential packages\n",
    "\n",
    "from __future__ import division\n",
    "import hoomd\n",
    "import hoomd.md\n",
    "\n",
    "#-----Some important variables\n",
    "\n",
    "p_max = 1.4;\n",
    "t_max = 5.4;\n",
    "steps = 2e5;\n",
    "\n",
    "#-----Crea un contexto de simulación\n",
    "\n",
    "hoomd.context.initialize(\"--mode=cpu\", memory_traceback = True);\n",
    "\n",
    "#-----Extrae la configuración del centro de masa de las partículas\n",
    "\n",
    "system = hoomd.init.read_gsd(\"T_CM_5.4_P_1.4_ramp.gsd\",frame = -1)\n",
    "\n",
    "#-----Define cada mesógeno en el marco de referencia local de cada centro de masa.\n",
    "\n",
    "rigid = hoomd.md.constrain.rigid();\n",
    "rigid.set_param('M', \n",
    "                types=['A']*8,\n",
    "                positions=[(-4,0,0),(-3,0,0),(-2,0,0),(-1,0,0),\n",
    "                           (1,0,0),(2,0,0),(3,0,0),(4,0,0)]);\n",
    "\n",
    "#-----Declara que las moléculas creadas son cuerpos rígidos\n",
    "\n",
    "rigid.create_bodies();\n",
    "\n",
    "#-----Define la energía potencial\n",
    "\n",
    "nl = hoomd.md.nlist.tree();\n",
    "\n",
    "lj = hoomd.md.pair.lj(r_cut = 3.5, nlist = nl)\n",
    "lj.set_params(mode = 'shift')\n",
    "\n",
    "#-----Define la interacción entre las especies de la simulación\n",
    "\n",
    "lj.pair_coeff.set('M','M', epsilon = 1.0, sigma = 1.0)\n",
    "lj.pair_coeff.set('A','A', epsilon = 1.0, sigma = 1.0)\n",
    "lj.pair_coeff.set('M','A', epsilon = 1.0, sigma = 1.0)\n",
    "\n",
    "#-----Selecciona un integrador standard\n",
    "\n",
    "hoomd.md.integrate.mode_standard(dt = 0.005);\n",
    "\n",
    "#------Define el grupo sobre el cual se integraran las ecuaciones de movimiento\n",
    "\n",
    "mesogens = hoomd.group.rigid_center();"
   ]
  },
  {
   "cell_type": "code",
   "execution_count": null,
   "metadata": {},
   "outputs": [],
   "source": [
    "#----Integrate using NPT\n",
    "\n",
    "npt = hoomd.md.integrate.npt(group = mesogens, kT = t_max, tau = 10.0, tauP = 10.0, P = p_max);\n",
    "npt.randomize_velocities(seed = 42)\n",
    "\n",
    "#-----Write output and Run the Simulation\n",
    "\n",
    "log_file = \"T_\" + str(t_max) + \"_P_\" + str(p_max) + \"_equilibrium.log\"\n",
    "gsd_file = \"T_\" + str(t_max) + \"_P_\" + str(p_max) + \"_equilibrium.gsd\" \n",
    "meso_gsd_file = \"T_CM_\" + str(t_max) + \"_P_\" + str(p_max) + \"_equilibrium.gsd\"\n",
    "\n",
    "log = hoomd.analyze.log(filename = log_file,\n",
    "                         quantities = ['num_particles',\n",
    "                                     'ndof',\n",
    "                                     'translational_ndof',\n",
    "                                     'rotational_ndof',\n",
    "                                     'potential_energy',\n",
    "                                     'kinetic_energy',\n",
    "                                     'translational_kinetic_energy',\n",
    "                                     'rotational_kinetic_energy',\n",
    "                                     'temperature',\n",
    "                                     'pressure',\n",
    "                                      'volume'],\n",
    "                         period = 1e3,\n",
    "                         overwrite = True);\n",
    "gsd = hoomd.dump.gsd(gsd_file,\n",
    "               period = 1e3,\n",
    "               group = hoomd.group.all(),\n",
    "               overwrite = True); \n",
    "meso_gsd = hoomd.dump.gsd(meso_gsd_file,\n",
    "               period = 1e3,\n",
    "               group = mesogens,\n",
    "               overwrite = True); "
   ]
  },
  {
   "cell_type": "code",
   "execution_count": null,
   "metadata": {
    "scrolled": true
   },
   "outputs": [],
   "source": [
    "hoomd.run(steps)"
   ]
  },
  {
   "cell_type": "code",
   "execution_count": null,
   "metadata": {},
   "outputs": [],
   "source": [
    "system.get_metadata()"
   ]
  },
  {
   "cell_type": "code",
   "execution_count": null,
   "metadata": {
    "scrolled": true
   },
   "outputs": [],
   "source": [
    "#npt.set_params(tau = 10.5, tauP = 10.5);\n",
    "#hoomd.run(steps)"
   ]
  },
  {
   "cell_type": "code",
   "execution_count": null,
   "metadata": {},
   "outputs": [],
   "source": [
    "#system.get_metadata()"
   ]
  },
  {
   "cell_type": "code",
   "execution_count": null,
   "metadata": {},
   "outputs": [],
   "source": []
  }
 ],
 "metadata": {
  "kernelspec": {
   "display_name": "Python 3",
   "language": "python",
   "name": "python3"
  },
  "language_info": {
   "codemirror_mode": {
    "name": "ipython",
    "version": 3
   },
   "file_extension": ".py",
   "mimetype": "text/x-python",
   "name": "python",
   "nbconvert_exporter": "python",
   "pygments_lexer": "ipython3",
   "version": "3.7.3"
  }
 },
 "nbformat": 4,
 "nbformat_minor": 4
}
