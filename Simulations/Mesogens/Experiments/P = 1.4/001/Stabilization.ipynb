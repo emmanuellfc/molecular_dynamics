{
 "cells": [
  {
   "cell_type": "markdown",
   "metadata": {},
   "source": [
    "## Stabilization P = 1.4"
   ]
  },
  {
   "cell_type": "code",
   "execution_count": 1,
   "metadata": {},
   "outputs": [
    {
     "name": "stdout",
     "output_type": "stream",
     "text": [
      "HOOMD-blue 2.6.0 DOUBLE HPMC_MIXED TBB SSE SSE2 SSE3 \n",
      "Compiled: 05/29/2019\n",
      "Copyright (c) 2009-2019 The Regents of the University of Michigan.\n",
      "-----\n",
      "You are using HOOMD-blue. Please cite the following:\n",
      "* J A Anderson, C D Lorenz, and A Travesset. \"General purpose molecular dynamics\n",
      "  simulations fully implemented on graphics processing units\", Journal of\n",
      "  Computational Physics 227 (2008) 5342--5359\n",
      "* J Glaser, T D Nguyen, J A Anderson, P Liu, F Spiga, J A Millan, D C Morse, and\n",
      "  S C Glotzer. \"Strong scaling of general-purpose molecular dynamics simulations\n",
      "  on GPUs\", Computer Physics Communications 192 (2015) 97--107\n",
      "-----\n",
      "HOOMD-blue is running on the CPU\n",
      "notice(2): Group \"all\" created containing 1000 particles\n",
      "notice(2): constrain.rigid(): Creating 1000 rigid bodies (adding 8000 particles)\n",
      "-----\n",
      "You are using tree neighbor lists. Please cite the following:\n",
      "* M P Howard, J A Anderson, A Nikoubashman, S C Glotzer, and A Z\n",
      "  Panagiotopoulos. \"Efficient neighbor list calculation for molecular simulation\n",
      "  of colloidal systems using graphics processing units\", Computer Physics\n",
      "  Communications 203 (2016) 45--52\n",
      "-----\n",
      "notice(2): Group \"rigid_center\" created containing 1000 particles\n"
     ]
    }
   ],
   "source": [
    "#-----Import some essential packages\n",
    "\n",
    "from __future__ import division\n",
    "import hoomd\n",
    "import hoomd.md\n",
    "\n",
    "#-----Some important variables\n",
    "\n",
    "p_max = 1.4;\n",
    "t_max = 5.0;\n",
    "\n",
    "#-----Crea un contexto de simulación\n",
    "\n",
    "hoomd.context.initialize(\"--mode=cpu\", memory_traceback = True);\n",
    "\n",
    "#-----Extrae la configuración del centro de masa de las partículas\n",
    "\n",
    "system = hoomd.init.read_gsd(\"T_CM_5.0_P_1.4_ramp.gsd\",frame = -1)\n",
    "\n",
    "#-----Define cada mesógeno en el marco de referencia local de cada centro de masa.\n",
    "\n",
    "rigid = hoomd.md.constrain.rigid();\n",
    "rigid.set_param('M', \n",
    "                types=['A']*8,\n",
    "                positions=[(-4,0,0),(-3,0,0),(-2,0,0),(-1,0,0),\n",
    "                           (1,0,0),(2,0,0),(3,0,0),(4,0,0)]);\n",
    "\n",
    "#-----Declara que las moléculas creadas son cuerpos rígidos\n",
    "\n",
    "rigid.create_bodies();\n",
    "\n",
    "#-----Define la energía potencial\n",
    "\n",
    "nl = hoomd.md.nlist.tree();\n",
    "\n",
    "lj = hoomd.md.pair.lj(r_cut = 3.5, nlist = nl)\n",
    "lj.set_params(mode='shift')\n",
    "\n",
    "#-----Define la interacción entre las especies de la simulación\n",
    "\n",
    "lj.pair_coeff.set('M','M', epsilon = 1.0, sigma = 1.0)\n",
    "lj.pair_coeff.set('A','A', epsilon = 1.0, sigma = 1.0)\n",
    "lj.pair_coeff.set('M','A', epsilon = 1.0, sigma = 1.0)\n",
    "\n",
    "#-----Selecciona un integrador standard\n",
    "\n",
    "hoomd.md.integrate.mode_standard(dt = 0.005);\n",
    "\n",
    "#------Define el grupo sobre el cual se integraran las ecuaciones de movimiento\n",
    "\n",
    "mesogens = hoomd.group.rigid_center();"
   ]
  },
  {
   "cell_type": "code",
   "execution_count": 2,
   "metadata": {},
   "outputs": [],
   "source": [
    "#----Integrate using NPT\n",
    "\n",
    "npt = hoomd.md.integrate.npt(group = mesogens, kT = t_max, tau = 1.5, tauP = 9.5, P = p_max);\n",
    "npt.randomize_velocities(seed = 42)\n",
    "\n",
    "#-----Write output and Run the Simulation\n",
    "\n",
    "log_file = \"T_\" + str(t_max) + \"_P_\" + str(p_max) + \"_stabilization.log\"\n",
    "gsd_file = \"T_\" + str(t_max) + \"_P_\" + str(p_max) + \"_stabilization.gsd\" \n",
    "meso_gsd_file = \"T_CM_\" + str(t_max) + \"_P_\" + str(p_max) + \"_stabilization.gsd\"\n",
    "\n",
    "log = hoomd.analyze.log(filename = log_file,\n",
    "                         quantities = ['num_particles',\n",
    "                                     'ndof',\n",
    "                                     'translational_ndof',\n",
    "                                     'rotational_ndof',\n",
    "                                     'potential_energy',\n",
    "                                     'kinetic_energy',\n",
    "                                     'translational_kinetic_energy',\n",
    "                                     'rotational_kinetic_energy',\n",
    "                                     'temperature',\n",
    "                                     'pressure',\n",
    "                                      'volume'],\n",
    "                         period = 1e3,\n",
    "                         overwrite = True);\n",
    "gsd = hoomd.dump.gsd(gsd_file,\n",
    "               period = 1e3,\n",
    "               group = hoomd.group.all(),\n",
    "               overwrite = True); \n",
    "meso_gsd = hoomd.dump.gsd(meso_gsd_file,\n",
    "               period = 1e3,\n",
    "               group = mesogens,\n",
    "               overwrite = True); "
   ]
  },
  {
   "cell_type": "code",
   "execution_count": null,
   "metadata": {},
   "outputs": [
    {
     "name": "stdout",
     "output_type": "stream",
     "text": [
      "notice(2): -- Neighborlist exclusion statistics -- :\n",
      "notice(2): Particles with 0 exclusions             : 9000\n",
      "notice(2): Neighbors included by diameter          : no\n",
      "notice(2): Neighbors excluded when in the same body: yes\n",
      "** starting run **\n",
      "Time 00:00:10 | Step 756153 / 856000 | TPS 15.1945 | ETA 01:49:31\n",
      "Time 00:00:20 | Step 756312 / 856000 | TPS 15.8305 | ETA 01:44:57\n",
      "Time 00:00:30 | Step 756487 / 856000 | TPS 17.4516 | ETA 01:35:02\n",
      "Time 00:00:40 | Step 756666 / 856000 | TPS 17.8751 | ETA 01:32:37\n",
      "Time 00:00:50 | Step 756794 / 856000 | TPS 12.774 | ETA 02:09:26\n",
      "Time 00:01:00 | Step 756936 / 856000 | TPS 14.0935 | ETA 01:57:09\n",
      "Time 00:01:10 | Step 757080 / 856000 | TPS 14.2339 | ETA 01:55:49\n",
      "Time 00:01:20 | Step 757222 / 856000 | TPS 14.1716 | ETA 01:56:10\n",
      "Time 00:01:30 | Step 757384 / 856000 | TPS 16.0113 | ETA 01:42:39\n",
      "Time 00:01:40 | Step 757556 / 856000 | TPS 17.1316 | ETA 01:35:46\n",
      "Time 00:01:50 | Step 757712 / 856000 | TPS 15.5157 | ETA 01:45:34\n",
      "Time 00:02:00 | Step 757855 / 856000 | TPS 14.2922 | ETA 01:54:27\n",
      "Time 00:02:10 | Step 758017 / 856000 | TPS 16.1494 | ETA 01:41:07\n",
      "Time 00:02:20 | Step 758181 / 856000 | TPS 16.398 | ETA 01:39:25\n",
      "Time 00:02:30 | Step 758340 / 856000 | TPS 15.8365 | ETA 01:42:46\n",
      "Time 00:02:40 | Step 758500 / 856000 | TPS 15.9676 | ETA 01:41:46\n",
      "Time 00:02:50 | Step 758667 / 856000 | TPS 16.5575 | ETA 01:37:58\n",
      "Time 00:03:00 | Step 758830 / 856000 | TPS 16.266 | ETA 01:39:33\n",
      "Time 00:03:10 | Step 759000 / 856000 | TPS 16.9548 | ETA 01:35:21\n",
      "Time 00:03:20 | Step 759172 / 856000 | TPS 17.1588 | ETA 01:34:03\n"
     ]
    }
   ],
   "source": [
    "hoomd.run(1e5)"
   ]
  },
  {
   "cell_type": "code",
   "execution_count": null,
   "metadata": {},
   "outputs": [],
   "source": []
  }
 ],
 "metadata": {
  "kernelspec": {
   "display_name": "Python 3",
   "language": "python",
   "name": "python3"
  },
  "language_info": {
   "codemirror_mode": {
    "name": "ipython",
    "version": 3
   },
   "file_extension": ".py",
   "mimetype": "text/x-python",
   "name": "python",
   "nbconvert_exporter": "python",
   "pygments_lexer": "ipython3",
   "version": "3.7.3"
  }
 },
 "nbformat": 4,
 "nbformat_minor": 4
}
