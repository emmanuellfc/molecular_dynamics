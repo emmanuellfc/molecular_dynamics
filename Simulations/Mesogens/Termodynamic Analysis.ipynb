{
 "cells": [
  {
   "cell_type": "markdown",
   "metadata": {},
   "source": [
    "# Termodynamic properties of the system"
   ]
  },
  {
   "cell_type": "code",
   "execution_count": 1,
   "metadata": {},
   "outputs": [],
   "source": [
    "import numpy\n",
    "from matplotlib import pyplot"
   ]
  },
  {
   "cell_type": "code",
   "execution_count": null,
   "metadata": {},
   "outputs": [],
   "source": [
    "data = numpy.genfromtxt(fname = 'trayectory_T_10.0_P_0.1.log', skip_header=True);"
   ]
  },
  {
   "cell_type": "code",
   "execution_count": null,
   "metadata": {},
   "outputs": [],
   "source": [
    "pyplot.figure(figsize=(4,2.2), dpi=140);\n",
    "pyplot.plot(data[:,0], data[:,10]);\n",
    "pyplot.xlabel('time step');\n",
    "pyplot.ylabel('Pressure');\n",
    "pyplot.suptitle('T = 1.0, P = 0.5')"
   ]
  },
  {
   "cell_type": "code",
   "execution_count": null,
   "metadata": {},
   "outputs": [],
   "source": [
    "pyplot.figure(figsize=(4,2.2), dpi=140);\n",
    "pyplot.plot(data[:,0], data[:,9]);\n",
    "pyplot.xlabel('Time step');\n",
    "pyplot.ylabel('Temperature');\n",
    "pyplot.suptitle('T = 1.0, P = 0.5')"
   ]
  },
  {
   "cell_type": "code",
   "execution_count": null,
   "metadata": {},
   "outputs": [],
   "source": [
    "pyplot.figure(figsize=(4,2.2), dpi=140);\n",
    "pyplot.plot(data[:,0], data[:,5]);\n",
    "pyplot.xlabel('time step');\n",
    "pyplot.ylabel('Potential Energy');\n",
    "#pyplot.axis([0,2e5,-4.5e4,-3e4]);\n",
    "pyplot.suptitle('T = 1.0, P = 0.5')"
   ]
  },
  {
   "cell_type": "code",
   "execution_count": null,
   "metadata": {},
   "outputs": [],
   "source": [
    "pyplot.figure(figsize=(4,2.2), dpi=140);\n",
    "pyplot.plot(data[:,0], data[:,6]);\n",
    "pyplot.xlabel('time step');\n",
    "pyplot.ylabel('Kinetic Energy');\n",
    "pyplot.suptitle('T = 1.0, P = 0.5')"
   ]
  },
  {
   "cell_type": "code",
   "execution_count": null,
   "metadata": {},
   "outputs": [],
   "source": [
    "pyplot.figure(figsize=(4,2.2), dpi=140);\n",
    "pyplot.plot(data[:,0], data[:,7]);\n",
    "pyplot.xlabel('time step');\n",
    "pyplot.ylabel('Translational Kinetic Energy');\n",
    "pyplot.suptitle('T = 1.0, P = 0.5')"
   ]
  },
  {
   "cell_type": "code",
   "execution_count": null,
   "metadata": {},
   "outputs": [],
   "source": [
    "pyplot.figure(figsize=(4,2.2), dpi=140);\n",
    "pyplot.plot(data[:,0], data[:,8]);\n",
    "pyplot.xlabel('time step');\n",
    "pyplot.ylabel('Rotational Kinetic Energy');\n",
    "pyplot.suptitle('T = 1.0, P = 0.5')"
   ]
  },
  {
   "cell_type": "code",
   "execution_count": null,
   "metadata": {},
   "outputs": [],
   "source": []
  }
 ],
 "metadata": {
  "kernelspec": {
   "display_name": "Python 3",
   "language": "python",
   "name": "python3"
  },
  "language_info": {
   "codemirror_mode": {
    "name": "ipython",
    "version": 3
   },
   "file_extension": ".py",
   "mimetype": "text/x-python",
   "name": "python",
   "nbconvert_exporter": "python",
   "pygments_lexer": "ipython3",
   "version": "3.7.3"
  }
 },
 "nbformat": 4,
 "nbformat_minor": 2
}
