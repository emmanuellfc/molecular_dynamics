{
 "cells": [
  {
   "cell_type": "markdown",
   "metadata": {},
   "source": [
    "# Mesogens with NP | Temperature Ramps"
   ]
  },
  {
   "cell_type": "markdown",
   "metadata": {},
   "source": [
    "## Temperature: 7.6 -> 7.8 | Cluster Run"
   ]
  },
  {
   "cell_type": "markdown",
   "metadata": {},
   "source": [
    "### Date: 11/13/2019 | System P = 1.8, Expected value of $T_c$ : 7.09 "
   ]
  },
  {
   "cell_type": "code",
   "execution_count": null,
   "metadata": {},
   "outputs": [],
   "source": [
    "#-----Import essential packages.\n",
    "\n",
    "from __future__ import division\n",
    "import hoomd\n",
    "import hoomd.md"
   ]
  },
  {
   "cell_type": "code",
   "execution_count": null,
   "metadata": {},
   "outputs": [],
   "source": [
    "#-----Define important variables.\n",
    "\n",
    "p_max = 1.8;\n",
    "t_0   = 7.6; \n",
    "t_1   = 7.8;\n",
    "steps_ramp = 5e4;"
   ]
  },
  {
   "cell_type": "code",
   "execution_count": null,
   "metadata": {},
   "outputs": [],
   "source": [
    "#-----Declare the file from wich we'll extract the configuration of the system.\n",
    "\n",
    "ramp_file = \"T_CM&NP_\" + str(t_0) + \"_P_\" + str(p_max) + \"_ramp.gsd\""
   ]
  },
  {
   "cell_type": "code",
   "execution_count": null,
   "metadata": {},
   "outputs": [],
   "source": [
    "#-----Declare a simulation context.\n",
    "\n",
    "hoomd.context.initialize(\"--mode=gpu\");\n",
    "\n",
    "#-----Initialize from a .gsd file.\n",
    "\n",
    "system = hoomd.init.read_gsd(ramp_file, frame = -1);\n",
    "\n",
    "#-----Define each mesogen in the local frame of reference of each rigid body.\n",
    "\n",
    "rigid = hoomd.md.constrain.rigid();\n",
    "rigid.set_param('M', \n",
    "                types = ['A']*8,\n",
    "                positions = [(-4,0,0),(-3,0,0),(-2,0,0),(-1,0,0),\n",
    "                           (1,0,0),(2,0,0),(3,0,0),(4,0,0)]);\n",
    "\n",
    "#-----Create the mesogens.\n",
    "\n",
    "rigid.create_bodies();\n",
    "\n",
    "#-----Define the potential energy.\n",
    "\n",
    "nl = hoomd.md.nlist.tree();\n",
    "\n",
    "lj = hoomd.md.pair.lj(r_cut = 3.5, nlist = nl)\n",
    "lj.set_params(mode = 'shift')\n",
    "\n",
    "#-----Declare interactions.\n",
    "\n",
    "lj.pair_coeff.set('NP','NP', epsilon = 1.0, sigma = 5.0);\n",
    "lj.pair_coeff.set('M' ,'M' , epsilon = 1.0, sigma = 1.0);\n",
    "lj.pair_coeff.set('A' ,'A' , epsilon = 1.0, sigma = 1.0);\n",
    "lj.pair_coeff.set('M' ,'A' , epsilon = 1.0, sigma = 1.0);\n",
    "lj.pair_coeff.set('NP','M' , epsilon = 1.0, sigma = 3.0);\n",
    "lj.pair_coeff.set('NP','A' , epsilon = 1.0, sigma = 3.0);\n",
    "\n",
    "#-----Select an standard integrator.\n",
    "\n",
    "hoomd.md.integrate.mode_standard(dt = 0.005);\n",
    "\n",
    "#------Define some groups and make their union.\n",
    "\n",
    "nanoparticles = hoomd.group.type(name = 'Nano_Particles', type = 'NP');\n",
    "mesogens = hoomd.group.rigid_center();\n",
    "groupNP_mes = hoomd.group.union(name = \"NP_Mes\", a = nanoparticles, b = mesogens);\n",
    "\n",
    "#----Integrate using an NPT integrator.\n",
    "\n",
    "temp = hoomd.variant.linear_interp(points = [(0,t_0), (steps_ramp, t_1)]);\n",
    "\n",
    "npt = hoomd.md.integrate.npt(group = groupNP_mes, kT = temp, tau = 5.0, tauP = 5.0, P = p_max);\n",
    "npt.randomize_velocities(seed=42)\n",
    "\n",
    "#-----Save .log y .gsd data.\n",
    "\n",
    "log_file = \"T_\" + str(t_1) + \"_P_\" + str(p_max) + \"_ramp.log\"\n",
    "gsd_file = \"T_\" + str(t_1) + \"_P_\" + str(p_max) + \"_ramp.gsd\" \n",
    "meso_gsd_file = \"T_CM&NP_\" + str(t_1) + \"_P_\" + str(p_max) + \"_ramp.gsd\"\n",
    "\n",
    "log = hoomd.analyze.log(filename = log_file,\n",
    "                         quantities = ['num_particles',\n",
    "                                     'ndof',\n",
    "                                     'translational_ndof',\n",
    "                                     'rotational_ndof',\n",
    "                                     'potential_energy',\n",
    "                                     'kinetic_energy',\n",
    "                                     'translational_kinetic_energy',\n",
    "                                     'rotational_kinetic_energy',\n",
    "                                     'temperature',\n",
    "                                     'pressure',\n",
    "                                      'volume'],\n",
    "                         period = 1e3,\n",
    "                         overwrite = True);\n",
    "gsd = hoomd.dump.gsd(gsd_file,\n",
    "               period = 1e3,\n",
    "               group = hoomd.group.all(),\n",
    "               overwrite = True); \n",
    "meso_gsd = hoomd.dump.gsd(meso_gsd_file,\n",
    "               period = 1e3,\n",
    "               group = groupNP_mes,\n",
    "               overwrite = True); "
   ]
  },
  {
   "cell_type": "code",
   "execution_count": null,
   "metadata": {
    "scrolled": true
   },
   "outputs": [],
   "source": [
    "#-----Run the simulation.\n",
    "\n",
    "hoomd.run(steps_ramp)"
   ]
  },
  {
   "cell_type": "code",
   "execution_count": null,
   "metadata": {},
   "outputs": [],
   "source": [
    "#-----Get density.\n",
    "\n",
    "system.get_metadata()"
   ]
  },
  {
   "cell_type": "code",
   "execution_count": null,
   "metadata": {},
   "outputs": [],
   "source": [
    "#-----Get volume.\n",
    "\n",
    "system.box.get_volume()"
   ]
  }
 ],
 "metadata": {
  "kernelspec": {
   "display_name": "Python 3",
   "language": "python",
   "name": "python3"
  },
  "language_info": {
   "codemirror_mode": {
    "name": "ipython",
    "version": 3
   },
   "file_extension": ".py",
   "mimetype": "text/x-python",
   "name": "python",
   "nbconvert_exporter": "python",
   "pygments_lexer": "ipython3",
   "version": "3.7.3"
  }
 },
 "nbformat": 4,
 "nbformat_minor": 4
}
