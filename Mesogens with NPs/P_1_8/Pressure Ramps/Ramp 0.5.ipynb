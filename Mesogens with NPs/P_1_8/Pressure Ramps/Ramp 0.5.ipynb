{
 "cells": [
  {
   "cell_type": "markdown",
   "metadata": {},
   "source": [
    "# Mesogens with NP | Pressure Ramps"
   ]
  },
  {
   "cell_type": "markdown",
   "metadata": {},
   "source": [
    "## Pressure: 0.0 -> 0.5"
   ]
  },
  {
   "cell_type": "markdown",
   "metadata": {},
   "source": [
    "### Date: 27/13/2019 | System P = 1.8, Expected value of $T_c$ : 7.09 "
   ]
  },
  {
   "cell_type": "code",
   "execution_count": 33,
   "metadata": {},
   "outputs": [
    {
     "name": "stdout",
     "output_type": "stream",
     "text": [
      "notice(2): Group \"all\" created containing 1000 particles\n"
     ]
    }
   ],
   "source": [
    "#-----Importa los paquetes esenciales para correr la simulación.\n",
    "\n",
    "import hoomd\n",
    "import hoomd.md\n",
    "\n",
    "#-----Define las variables que más se repitan, o sean las más importantes.\n",
    "\n",
    "box         = 12.5;\n",
    "replicates  = 10;\n",
    "np_diameter = 5.0;\n",
    "t_max       = 6.0;\n",
    "p0 = 0.0;\n",
    "p1 = 0.5;\n",
    "steps_ramp = 5e4;\n",
    "\n",
    "#-------Define la celda unitaria.\n",
    "\n",
    "hoomd.context.initialize(\"\");\n",
    "uc = hoomd.lattice.unitcell(N = 1,\n",
    "                            a1 = [box, 0, 0],\n",
    "                            a2 = [0, box, 0],\n",
    "                            a3 = [0, 0, box],\n",
    "                            dimensions = 3,\n",
    "                            position = [[0,0,0]],\n",
    "                            type_name = ['M'],\n",
    "                            mass = [1.0],\n",
    "                            moment_inertia = [[0,\n",
    "                                               1/12*1.0*8**2,\n",
    "                                               1/12*1.0*8**2]],\n",
    "                            orientation = [[1, 0, 0, 0]]);\n",
    "\n",
    "#-----De la lattice obten un snapshot e inicia el sistema desde ahí.\n",
    "\n",
    "snap = uc.get_snapshot()\n",
    "snap.replicate(replicates,replicates,replicates)\n",
    "system = hoomd.init.read_snapshot(snap)"
   ]
  },
  {
   "cell_type": "code",
   "execution_count": 34,
   "metadata": {},
   "outputs": [],
   "source": [
    "#-----Nanopartículas\n",
    "\n",
    "system.particles.types.add('NP');\n",
    "\n",
    "    #-----Añade las nanopartículas\n",
    "    \n",
    "for nano in range(0,4):\n",
    "    system.particles.add(\"NP\")\n",
    "    \n",
    "    #-----Asigna a una variable las nanopartículas para despues definir sobre éstas sus propiedades.\n",
    "\n",
    "np_0 = system.particles[1000];\n",
    "np_1 = system.particles[1001];\n",
    "np_2 = system.particles[1002];\n",
    "np_3 = system.particles[1003];\n",
    "\n",
    "    #-----Especifica el diametro.\n",
    "\n",
    "np_0.diameter = np_diameter;\n",
    "np_1.diameter = np_diameter;\n",
    "np_2.diameter = np_diameter;\n",
    "np_3.diameter = np_diameter;\n",
    "    \n",
    "    #------Declara la posición.\n",
    "\n",
    "np_0.position = (0,   12.5, 0);\n",
    "np_1.position = (0,  -12.5, 0);\n",
    "np_2.position = (0,  37.5, 0);\n",
    "np_3.position = (0, -37.5, 0);\n",
    "    \n",
    "    #------Declara el momento de inercia.\n",
    "    \n",
    "np_0.moment_inertia = [0,0,0];\n",
    "np_1.moment_inertia = [0,0,0];\n",
    "np_2.moment_inertia = [0,0,0];\n",
    "np_3.moment_inertia = [0,0,0];"
   ]
  },
  {
   "cell_type": "code",
   "execution_count": 35,
   "metadata": {},
   "outputs": [
    {
     "name": "stdout",
     "output_type": "stream",
     "text": [
      "notice(2): constrain.rigid(): Creating 1000 rigid bodies (adding 8000 particles)\n",
      "-----\n",
      "You are using tree neighbor lists. Please cite the following:\n",
      "* M P Howard, J A Anderson, A Nikoubashman, S C Glotzer, and A Z\n",
      "  Panagiotopoulos. \"Efficient neighbor list calculation for molecular simulation\n",
      "  of colloidal systems using graphics processing units\", Computer Physics\n",
      "  Communications 203 (2016) 45--52\n",
      "-----\n",
      "notice(2): Group \"Nano_Particles\" created containing 4 particles\n",
      "notice(2): Group \"rigid_center\" created containing 1000 particles\n",
      "notice(2): Group \"NP_Mes\" created containing 1004 particles\n"
     ]
    }
   ],
   "source": [
    "#-----Mesógenos\n",
    "\n",
    "#-----Añande las partículas constituyendes de los mesógenos\n",
    "\n",
    "system.particles.types.add('A');\n",
    "\n",
    "    #-----Define cada mesógeno como un cuerpo rígido en un marco de referencia local a cada partícula.\n",
    "    \n",
    "rigid = hoomd.md.constrain.rigid();\n",
    "rigid.set_param('M', \n",
    "                types=['A']*8,\n",
    "                positions=[(-4,0,0),(-3,0,0),(-2,0,0),(-1,0,0),\n",
    "                           (1,0,0),(2,0,0),(3,0,0),(4,0,0)]);\n",
    "\n",
    "    #-----Declara el comportamiento de las partículas como el de un cuerpo rígido.\n",
    "\n",
    "rigid.create_bodies();\n",
    "\n",
    "#-----Define cómo se calculará la lista de vecinos y el potencial de interacción.\n",
    "\n",
    "nl = hoomd.md.nlist.tree();\n",
    "\n",
    "lj = hoomd.md.pair.lj(r_cut = 3.5, nlist = nl)\n",
    "lj.set_params(mode = 'shift')\n",
    "\n",
    "#-----Define la interacción entre las partículas de la mezcla.\n",
    "\n",
    "lj.pair_coeff.set('NP','NP', epsilon = 1.0, sigma = 5.0)\n",
    "lj.pair_coeff.set('M' , 'M', epsilon = 1.0, sigma = 1.0)\n",
    "lj.pair_coeff.set('A' , 'A', epsilon = 1.0, sigma = 1.0)\n",
    "lj.pair_coeff.set('M' , 'A', epsilon = 1.0, sigma = 1.0)\n",
    "lj.pair_coeff.set('NP', 'M', epsilon = 1.0, sigma = 3.0)\n",
    "lj.pair_coeff.set('NP', 'A', epsilon = 1.0, sigma = 3.0)\n",
    "\n",
    "#-----Define el integrador y el grupo sobre el cuál se integrarán las ecuaciones de movimiento.\n",
    "\n",
    "hoomd.md.integrate.mode_standard(dt = 0.005);\n",
    "\n",
    "    #------Define los grupos y la unión entre ellos.\n",
    "\n",
    "nanoparticles = hoomd.group.type(name ='Nano_Particles', type = 'NP')\n",
    "mesogens = hoomd.group.rigid_center();\n",
    "groupNP_mes = hoomd.group.union(name = \"NP_Mes\", a = nanoparticles, b = mesogens)\n",
    "\n",
    "\n",
    "pressure = hoomd.variant.linear_interp(points = [(0,p0), (steps_ramp, p1)])\n",
    "npt = hoomd.md.integrate.npt(group = groupNP_mes, kT = t_max, tau = 1.0, tauP = 1.0, P = pressure);\n",
    "npt.randomize_velocities(seed = 42)\n",
    "\n",
    "#-----Define los archivos en los que se guardará la información de la simulación. \n",
    "\n",
    "log_file = \"T_\" + str(t_max) + \"_P_\" + str(p1) + \"_ramp.log\"\n",
    "gsd_file = \"T_\" + str(t_max) + \"_P_\" + str(p1) + \"_ramp.gsd\" \n",
    "meso_gsd_file = \"T_CM&NP_\" + str(t_max) + \"_P_\" + str(p1) + \"_ramp.gsd\"\n",
    "\n",
    "log = hoomd.analyze.log(filename = log_file,\n",
    "                         quantities = ['num_particles',\n",
    "                                     'ndof',\n",
    "                                     'translational_ndof',\n",
    "                                     'rotational_ndof',\n",
    "                                     'potential_energy',\n",
    "                                     'kinetic_energy',\n",
    "                                     'translational_kinetic_energy',\n",
    "                                     'rotational_kinetic_energy',\n",
    "                                     'temperature',\n",
    "                                     'pressure',\n",
    "                                      'volume'],\n",
    "                         period = 1e3,\n",
    "                         overwrite = True);\n",
    "gsd = hoomd.dump.gsd(gsd_file,\n",
    "               period = 1e3,\n",
    "               group = hoomd.group.all(),\n",
    "               overwrite = True); \n",
    "meso_gsd = hoomd.dump.gsd(meso_gsd_file,\n",
    "               period = 1e3,\n",
    "               group = groupNP_mes,\n",
    "               overwrite = True); "
   ]
  },
  {
   "cell_type": "code",
   "execution_count": 36,
   "metadata": {
    "scrolled": true
   },
   "outputs": [
    {
     "name": "stdout",
     "output_type": "stream",
     "text": [
      "notice(2): -- Neighborlist exclusion statistics -- :\n",
      "notice(2): Particles with 0 exclusions             : 9004\n",
      "notice(2): Neighbors included by diameter          : no\n",
      "notice(2): Neighbors excluded when in the same body: yes\n",
      "** starting run **\n"
     ]
    },
    {
     "name": "stderr",
     "output_type": "stream",
     "text": [
      "**ERROR**: nlist: Simulation box is too small! Particles would be interacting with themselves.\n"
     ]
    },
    {
     "ename": "RuntimeError",
     "evalue": "Error updating neighborlist bins",
     "output_type": "error",
     "traceback": [
      "\u001b[0;31m---------------------------------------------------------------------------\u001b[0m",
      "\u001b[0;31mRuntimeError\u001b[0m                              Traceback (most recent call last)",
      "\u001b[0;32m<ipython-input-36-fb50a298b36e>\u001b[0m in \u001b[0;36m<module>\u001b[0;34m\u001b[0m\n\u001b[1;32m      1\u001b[0m \u001b[0;31m#-----Run the simulation.\u001b[0m\u001b[0;34m\u001b[0m\u001b[0;34m\u001b[0m\u001b[0;34m\u001b[0m\u001b[0m\n\u001b[1;32m      2\u001b[0m \u001b[0;34m\u001b[0m\u001b[0m\n\u001b[0;32m----> 3\u001b[0;31m \u001b[0mhoomd\u001b[0m\u001b[0;34m.\u001b[0m\u001b[0mrun\u001b[0m\u001b[0;34m(\u001b[0m\u001b[0msteps_ramp\u001b[0m\u001b[0;34m)\u001b[0m\u001b[0;34m\u001b[0m\u001b[0;34m\u001b[0m\u001b[0m\n\u001b[0m",
      "\u001b[0;32m~/anaconda3/lib/python3.7/site-packages/hoomd/__init__.py\u001b[0m in \u001b[0;36mrun\u001b[0;34m(tsteps, profile, limit_hours, limit_multiple, callback_period, callback, quiet)\u001b[0m\n\u001b[1;32m    199\u001b[0m     \u001b[0;32mif\u001b[0m \u001b[0;32mnot\u001b[0m \u001b[0mquiet\u001b[0m\u001b[0;34m:\u001b[0m\u001b[0;34m\u001b[0m\u001b[0;34m\u001b[0m\u001b[0m\n\u001b[1;32m    200\u001b[0m         \u001b[0mcontext\u001b[0m\u001b[0;34m.\u001b[0m\u001b[0mmsg\u001b[0m\u001b[0;34m.\u001b[0m\u001b[0mnotice\u001b[0m\u001b[0;34m(\u001b[0m\u001b[0;36m1\u001b[0m\u001b[0;34m,\u001b[0m \u001b[0;34m\"** starting run **\\n\"\u001b[0m\u001b[0;34m)\u001b[0m\u001b[0;34m;\u001b[0m\u001b[0;34m\u001b[0m\u001b[0;34m\u001b[0m\u001b[0m\n\u001b[0;32m--> 201\u001b[0;31m     \u001b[0mcontext\u001b[0m\u001b[0;34m.\u001b[0m\u001b[0mcurrent\u001b[0m\u001b[0;34m.\u001b[0m\u001b[0msystem\u001b[0m\u001b[0;34m.\u001b[0m\u001b[0mrun\u001b[0m\u001b[0;34m(\u001b[0m\u001b[0mint\u001b[0m\u001b[0;34m(\u001b[0m\u001b[0mtsteps\u001b[0m\u001b[0;34m)\u001b[0m\u001b[0;34m,\u001b[0m \u001b[0mcallback_period\u001b[0m\u001b[0;34m,\u001b[0m \u001b[0mcallback\u001b[0m\u001b[0;34m,\u001b[0m \u001b[0mlimit_hours\u001b[0m\u001b[0;34m,\u001b[0m \u001b[0mint\u001b[0m\u001b[0;34m(\u001b[0m\u001b[0mlimit_multiple\u001b[0m\u001b[0;34m)\u001b[0m\u001b[0;34m)\u001b[0m\u001b[0;34m;\u001b[0m\u001b[0;34m\u001b[0m\u001b[0;34m\u001b[0m\u001b[0m\n\u001b[0m\u001b[1;32m    202\u001b[0m     \u001b[0;32mif\u001b[0m \u001b[0;32mnot\u001b[0m \u001b[0mquiet\u001b[0m\u001b[0;34m:\u001b[0m\u001b[0;34m\u001b[0m\u001b[0;34m\u001b[0m\u001b[0m\n\u001b[1;32m    203\u001b[0m         \u001b[0mcontext\u001b[0m\u001b[0;34m.\u001b[0m\u001b[0mmsg\u001b[0m\u001b[0;34m.\u001b[0m\u001b[0mnotice\u001b[0m\u001b[0;34m(\u001b[0m\u001b[0;36m1\u001b[0m\u001b[0;34m,\u001b[0m \u001b[0;34m\"** run complete **\\n\"\u001b[0m\u001b[0;34m)\u001b[0m\u001b[0;34m;\u001b[0m\u001b[0;34m\u001b[0m\u001b[0;34m\u001b[0m\u001b[0m\n",
      "\u001b[0;31mRuntimeError\u001b[0m: Error updating neighborlist bins"
     ]
    }
   ],
   "source": [
    "#-----Run the simulation.\n",
    "\n",
    "hoomd.run(steps_ramp)"
   ]
  },
  {
   "cell_type": "code",
   "execution_count": null,
   "metadata": {},
   "outputs": [],
   "source": [
    "#-----Get density.\n",
    "\n",
    "system.get_metadata()"
   ]
  },
  {
   "cell_type": "code",
   "execution_count": null,
   "metadata": {},
   "outputs": [],
   "source": [
    "#-----Get volume.\n",
    "\n",
    "system.box.get_volume()"
   ]
  },
  {
   "cell_type": "code",
   "execution_count": null,
   "metadata": {},
   "outputs": [],
   "source": []
  }
 ],
 "metadata": {
  "kernelspec": {
   "display_name": "Python 3",
   "language": "python",
   "name": "python3"
  },
  "language_info": {
   "codemirror_mode": {
    "name": "ipython",
    "version": 3
   },
   "file_extension": ".py",
   "mimetype": "text/x-python",
   "name": "python",
   "nbconvert_exporter": "python",
   "pygments_lexer": "ipython3",
   "version": "3.7.4"
  }
 },
 "nbformat": 4,
 "nbformat_minor": 4
}
