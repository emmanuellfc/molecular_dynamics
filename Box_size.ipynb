{
 "cells": [
  {
   "cell_type": "markdown",
   "metadata": {},
   "source": [
    "# Box size v1.0(11/06/2019)"
   ]
  },
  {
   "cell_type": "code",
   "execution_count": 1,
   "metadata": {},
   "outputs": [],
   "source": [
    "from __future__ import division\n",
    "import hoomd\n",
    "import hoomd.md\n",
    "import ex_render\n",
    "import numpy"
   ]
  },
  {
   "cell_type": "code",
   "execution_count": 16,
   "metadata": {},
   "outputs": [
    {
     "name": "stdout",
     "output_type": "stream",
     "text": [
      "notice(2): Group \"all\" created containing 64 particles\n",
      "notice(2): constrain.rigid(): Creating 64 rigid bodies (adding 256 particles)\n"
     ]
    }
   ],
   "source": [
    "#-----\n",
    "\n",
    "context1 = hoomd.context.initialize(\"\");\n",
    "\n",
    "uc = hoomd.lattice.unitcell(N = 1,\n",
    "                      a1 = [6.1, 0, 0],\n",
    "                      a2 = [0, 6.1, 0],\n",
    "                      a3 = [0, 0, 6.1],\n",
    "                      dimensions = 3,\n",
    "                      position = [[0,0,0]],\n",
    "                      type_name = 'M',\n",
    "                      mass = [1.0],\n",
    "                      moment_inertia = [[0,\n",
    "                                         1/12*1.0*8**2,\n",
    "                                         1/12*1.0*8**2]],\n",
    "                      orientation = [[1, 0, 0, 0]]);\n",
    "snap = uc.get_snapshot()\n",
    "snap.replicate(4,4,4)\n",
    "system = hoomd.init.read_snapshot(snap)\n",
    "\n",
    "#-----Add the particle type for the constituent particles and NP\n",
    "\n",
    "system.particles.types.add('A');\n",
    "\n",
    "#-----Define each rigid body type in the local coordinate system of the body.\n",
    "\n",
    "rigid = hoomd.md.constrain.rigid();\n",
    "rigid.set_param('M', \n",
    "                types=['A']*4,\n",
    "                positions=[(-2,0,0),(-1,0,0),\n",
    "                           (1,0,0),(2,0,0)]);\n",
    "\n",
    "#-----Instruct the rigid constraint to create the constituent particles\n",
    "\n",
    "rigid.create_bodies()\n",
    "\n",
    "#print(snap.box.Lx * snap.box.Ly * snap.box.Ly)"
   ]
  },
  {
   "cell_type": "code",
   "execution_count": 17,
   "metadata": {},
   "outputs": [],
   "source": [
    "mesogen_group = hoomd.group.all()"
   ]
  },
  {
   "cell_type": "code",
   "execution_count": 15,
   "metadata": {},
   "outputs": [
    {
     "ename": "ValueError",
     "evalue": "Particle properties must have length N",
     "output_type": "error",
     "traceback": [
      "\u001b[0;31m---------------------------------------------------------------------------\u001b[0m",
      "\u001b[0;31mValueError\u001b[0m                                Traceback (most recent call last)",
      "\u001b[0;32m<ipython-input-15-487fbdf6e91e>\u001b[0m in \u001b[0;36m<module>\u001b[0;34m\u001b[0m\n\u001b[1;32m     13\u001b[0m                                          \u001b[0;36m1\u001b[0m\u001b[0;34m/\u001b[0m\u001b[0;36m12\u001b[0m\u001b[0;34m*\u001b[0m\u001b[0;36m1.0\u001b[0m\u001b[0;34m*\u001b[0m\u001b[0;36m8\u001b[0m\u001b[0;34m**\u001b[0m\u001b[0;36m2\u001b[0m\u001b[0;34m,\u001b[0m\u001b[0;34m\u001b[0m\u001b[0;34m\u001b[0m\u001b[0m\n\u001b[1;32m     14\u001b[0m                                          1/12*1.0*8**2]],\n\u001b[0;32m---> 15\u001b[0;31m                       orientation = [[1, 0, 0, 0]]);\n\u001b[0m\u001b[1;32m     16\u001b[0m \u001b[0msnap\u001b[0m \u001b[0;34m=\u001b[0m \u001b[0muc\u001b[0m\u001b[0;34m.\u001b[0m\u001b[0mget_snapshot\u001b[0m\u001b[0;34m(\u001b[0m\u001b[0;34m)\u001b[0m\u001b[0;34m\u001b[0m\u001b[0;34m\u001b[0m\u001b[0m\n\u001b[1;32m     17\u001b[0m \u001b[0msnap\u001b[0m\u001b[0;34m.\u001b[0m\u001b[0mreplicatte\u001b[0m\u001b[0;34m(\u001b[0m\u001b[0;36m1\u001b[0m\u001b[0;34m,\u001b[0m\u001b[0;36m1\u001b[0m\u001b[0;34m,\u001b[0m\u001b[0;36m1\u001b[0m\u001b[0;34m)\u001b[0m\u001b[0;34m\u001b[0m\u001b[0;34m\u001b[0m\u001b[0m\n",
      "\u001b[0;32m~/anaconda3/lib/python3.7/site-packages/hoomd/lattice.py\u001b[0m in \u001b[0;36m__init__\u001b[0;34m(self, N, a1, a2, a3, dimensions, position, type_name, mass, charge, diameter, moment_inertia, orientation)\u001b[0m\n\u001b[1;32m    177\u001b[0m             \u001b[0mself\u001b[0m\u001b[0;34m.\u001b[0m\u001b[0mtype_name\u001b[0m \u001b[0;34m=\u001b[0m \u001b[0mtype_name\u001b[0m\u001b[0;34m;\u001b[0m\u001b[0;34m\u001b[0m\u001b[0;34m\u001b[0m\u001b[0m\n\u001b[1;32m    178\u001b[0m             \u001b[0;32mif\u001b[0m \u001b[0mlen\u001b[0m\u001b[0;34m(\u001b[0m\u001b[0mself\u001b[0m\u001b[0;34m.\u001b[0m\u001b[0mtype_name\u001b[0m\u001b[0;34m)\u001b[0m \u001b[0;34m!=\u001b[0m \u001b[0mN\u001b[0m\u001b[0;34m:\u001b[0m\u001b[0;34m\u001b[0m\u001b[0;34m\u001b[0m\u001b[0m\n\u001b[0;32m--> 179\u001b[0;31m                 \u001b[0;32mraise\u001b[0m \u001b[0mValueError\u001b[0m\u001b[0;34m(\u001b[0m\u001b[0;34m\"Particle properties must have length N\"\u001b[0m\u001b[0;34m)\u001b[0m\u001b[0;34m;\u001b[0m\u001b[0;34m\u001b[0m\u001b[0;34m\u001b[0m\u001b[0m\n\u001b[0m\u001b[1;32m    180\u001b[0m \u001b[0;34m\u001b[0m\u001b[0m\n\u001b[1;32m    181\u001b[0m         \u001b[0;32mif\u001b[0m \u001b[0mmass\u001b[0m \u001b[0;32mis\u001b[0m \u001b[0;32mNone\u001b[0m\u001b[0;34m:\u001b[0m\u001b[0;34m\u001b[0m\u001b[0;34m\u001b[0m\u001b[0m\n",
      "\u001b[0;31mValueError\u001b[0m: Particle properties must have length N"
     ]
    }
   ],
   "source": [
    "context2 = hoomd.context.initialize(\"\");\n",
    "\n",
    "uc = hoomd.lattice.unitcell(N = 1,\n",
    "                      a1 = [6.1, 0, 0],\n",
    "                      a2 = [0, 6.1, 0],\n",
    "                      a3 = [0, 0, 6.1],\n",
    "                      dimensions = 3,\n",
    "                      position = [[0.0,0.0,0.0]],\n",
    "                      type_name = 'NP',\n",
    "                      mass = [1.0],\n",
    "                      diameter =[5.0],\n",
    "                      moment_inertia = [[0,\n",
    "                                         1/12*1.0*8**2,\n",
    "                                         1/12*1.0*8**2]],\n",
    "                      orientation = [[1, 0, 0, 0]]);\n",
    "snap = uc.get_snapshot()\n",
    "snap.replicatte(1,1,1)\n",
    "system = hoomd.init.read_snapshot(snap)"
   ]
  },
  {
   "cell_type": "code",
   "execution_count": null,
   "metadata": {},
   "outputs": [],
   "source": []
  },
  {
   "cell_type": "code",
   "execution_count": null,
   "metadata": {},
   "outputs": [],
   "source": [
    "#----- Adding NP\n",
    "\n",
    "system.particles.add('NP');\n",
    "\n",
    "#----- Indivual properties of NP's\n",
    "\n",
    "np = system.particles[64]\n",
    "np.position = (1.4,1.4,1.4)\n",
    "np.diameter = 5.0"
   ]
  },
  {
   "cell_type": "code",
   "execution_count": null,
   "metadata": {},
   "outputs": [],
   "source": [
    "print(system.particles.types)"
   ]
  },
  {
   "cell_type": "code",
   "execution_count": null,
   "metadata": {},
   "outputs": [],
   "source": [
    "ex_render.render_sphere_frame(system.take_snapshot(all=True))"
   ]
  },
  {
   "cell_type": "code",
   "execution_count": null,
   "metadata": {},
   "outputs": [],
   "source": [
    "len(system.particles)"
   ]
  },
  {
   "cell_type": "code",
   "execution_count": null,
   "metadata": {},
   "outputs": [],
   "source": [
    "groupNP = hoomd.group.type('NP')\n",
    "snapshot = hoomd.data.make_snapshot(N=1, box=data.boxdim(L=1))"
   ]
  },
  {
   "cell_type": "code",
   "execution_count": null,
   "metadata": {},
   "outputs": [],
   "source": []
  }
 ],
 "metadata": {
  "kernelspec": {
   "display_name": "Python 3",
   "language": "python",
   "name": "python3"
  },
  "language_info": {
   "codemirror_mode": {
    "name": "ipython",
    "version": 3
   },
   "file_extension": ".py",
   "mimetype": "text/x-python",
   "name": "python",
   "nbconvert_exporter": "python",
   "pygments_lexer": "ipython3",
   "version": "3.7.3"
  }
 },
 "nbformat": 4,
 "nbformat_minor": 2
}
