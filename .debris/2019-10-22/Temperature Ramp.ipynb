{
 "cells": [
  {
   "cell_type": "markdown",
   "metadata": {},
   "source": [
    "# Temperature Ramps"
   ]
  },
  {
   "cell_type": "code",
   "execution_count": 1,
   "metadata": {},
   "outputs": [
    {
     "name": "stdout",
     "output_type": "stream",
     "text": [
      "HOOMD-blue 2.6.0 DOUBLE HPMC_MIXED TBB SSE SSE2 SSE3 \n",
      "Compiled: 05/29/2019\n",
      "Copyright (c) 2009-2019 The Regents of the University of Michigan.\n",
      "-----\n",
      "You are using HOOMD-blue. Please cite the following:\n",
      "* J A Anderson, C D Lorenz, and A Travesset. \"General purpose molecular dynamics\n",
      "  simulations fully implemented on graphics processing units\", Journal of\n",
      "  Computational Physics 227 (2008) 5342--5359\n",
      "* J Glaser, T D Nguyen, J A Anderson, P Liu, F Spiga, J A Millan, D C Morse, and\n",
      "  S C Glotzer. \"Strong scaling of general-purpose molecular dynamics simulations\n",
      "  on GPUs\", Computer Physics Communications 192 (2015) 97--107\n",
      "-----\n",
      "HOOMD-blue is running on the CPU\n",
      "notice(2): Group \"all\" created containing 1000 particles\n",
      "notice(2): constrain.rigid(): Creating 1000 rigid bodies (adding 8000 particles)\n",
      "-----\n",
      "You are using tree neighbor lists. Please cite the following:\n",
      "* M P Howard, J A Anderson, A Nikoubashman, S C Glotzer, and A Z\n",
      "  Panagiotopoulos. \"Efficient neighbor list calculation for molecular simulation\n",
      "  of colloidal systems using graphics processing units\", Computer Physics\n",
      "  Communications 203 (2016) 45--52\n",
      "-----\n",
      "notice(2): Group \"rigid_center\" created containing 1000 particles\n"
     ]
    }
   ],
   "source": [
    "#-----Import esential packages\n",
    "\n",
    "from __future__ import division\n",
    "import hoomd\n",
    "import hoomd.md\n",
    "\n",
    "#-----Declare some important variables\n",
    "\n",
    "t_0 = 5.6;\n",
    "t_1 = 5.8;\n",
    "t_2 = 6.0;\n",
    "t_3 = 6.2;\n",
    "p_max  = 1.4;\n",
    "steps_ramp = 5e4;\n",
    "\n",
    "\n",
    "#-----Crea un contexto de simulación\n",
    "\n",
    "hoomd.context.initialize(\"--mode=cpu\", memory_traceback = True);\n",
    "\n",
    "#-----Extrae la configuración del centro de masa de las partículas\n",
    "\n",
    "system = hoomd.init.read_gsd(\"T_CM_5.6_P_1.4_ramp.gsd\",frame = -1)\n",
    "\n",
    "#-----Define cada mesógeno en el marco de referencia local de cada centro de masa.\n",
    "\n",
    "rigid = hoomd.md.constrain.rigid();\n",
    "rigid.set_param('M', \n",
    "                types=['A']*8,\n",
    "                positions=[(-4,0,0),(-3,0,0),(-2,0,0),(-1,0,0),\n",
    "                           (1,0,0),(2,0,0),(3,0,0),(4,0,0)]);\n",
    "\n",
    "#-----Declara que las moléculas creadas son cuerpos rígidos\n",
    "\n",
    "rigid.create_bodies();\n",
    "\n",
    "#-----Define la energía potencial\n",
    "\n",
    "nl = hoomd.md.nlist.tree();\n",
    "\n",
    "lj = hoomd.md.pair.lj(r_cut = 3.5, nlist = nl);\n",
    "lj.set_params(mode = 'shift');\n",
    "\n",
    "#-----Define la interacción entre las especies de la simulación\n",
    "\n",
    "lj.pair_coeff.set('M','M', epsilon = 1.0, sigma = 1.0);\n",
    "lj.pair_coeff.set('A','A', epsilon = 1.0, sigma = 1.0);\n",
    "lj.pair_coeff.set('M','A', epsilon = 1.0, sigma = 1.0);\n",
    "\n",
    "#-----Selecciona un integrador standard\n",
    "\n",
    "hoomd.md.integrate.mode_standard(dt = 0.005);\n",
    "\n",
    "#------Define el grupo sobre el cual se integraran las ecuaciones de movimiento\n",
    "\n",
    "mesogens = hoomd.group.rigid_center();\n",
    "\n",
    "#----Integrate using NPT\n",
    "\n",
    "temp1 = hoomd.variant.linear_interp(points = [(0,t_0), (steps_ramp, t_1)]);\n",
    "temp2 = hoomd.variant.linear_interp(points = [(0,t_1), (steps_ramp, t_2)]);\n",
    "temp3 = hoomd.variant.linear_interp(points = [(0,t_2), (steps_ramp, t_3)]);\n",
    "\n",
    "npt = hoomd.md.integrate.npt(group = mesogens, kT = temp1, tau = 1.5, tauP = 1.5, P = p_max);\n",
    "npt.randomize_velocities(seed = 42);"
   ]
  },
  {
   "cell_type": "code",
   "execution_count": 2,
   "metadata": {},
   "outputs": [],
   "source": [
    "#-----Ramp1 T : 5.6 -> 5.8\n",
    "#-----Write output and Run the Simulation\n",
    "\n",
    "log_file = \"T_\" + str(t_1) + \"_P_\" + str(p_max) + \"_ramp.log\"\n",
    "gsd_file = \"T_\" + str(t_1) + \"_P_\" + str(p_max) + \"_ramp.gsd\" \n",
    "meso_gsd_file = \"T_CM_\" + str(t_1) + \"_P_\" + str(p_max) + \"_ramp.gsd\"\n",
    "\n",
    "log = hoomd.analyze.log(filename = log_file,\n",
    "                         quantities = ['num_particles',\n",
    "                                     'ndof',\n",
    "                                     'translational_ndof',\n",
    "                                     'rotational_ndof',\n",
    "                                     'potential_energy',\n",
    "                                     'kinetic_energy',\n",
    "                                     'translational_kinetic_energy',\n",
    "                                     'rotational_kinetic_energy',\n",
    "                                     'temperature',\n",
    "                                     'pressure',\n",
    "                                      'volume'],\n",
    "                         period = 1e3,\n",
    "                         overwrite = True);\n",
    "gsd = hoomd.dump.gsd(gsd_file,\n",
    "               period = 1e3,\n",
    "               group = hoomd.group.all(),\n",
    "               overwrite = True); \n",
    "meso_gsd = hoomd.dump.gsd(meso_gsd_file,\n",
    "               period = 1e3,\n",
    "               group = mesogens,\n",
    "               overwrite = True);"
   ]
  },
  {
   "cell_type": "code",
   "execution_count": null,
   "metadata": {
    "scrolled": true
   },
   "outputs": [
    {
     "name": "stdout",
     "output_type": "stream",
     "text": [
      "notice(2): -- Neighborlist exclusion statistics -- :\n",
      "notice(2): Particles with 0 exclusions             : 9000\n",
      "notice(2): Neighbors included by diameter          : no\n",
      "notice(2): Neighbors excluded when in the same body: yes\n",
      "** starting run **\n",
      "Time 00:00:43 | Step 1445000 / 1495000 | TPS 0 | ETA -2562047:-47:-16\n",
      "Time 00:01:25 | Step 1445001 / 1495000 | TPS 0.0237705 | ETA 584:16:49\n",
      "Time 00:02:05 | Step 1445101 / 1495000 | TPS 2.53643 | ETA 05:27:52\n",
      "Time 00:02:44 | Step 1445201 / 1495000 | TPS 2.53568 | ETA 05:27:19\n",
      "Time 00:03:23 | Step 1445301 / 1495000 | TPS 2.54121 | ETA 05:25:57\n",
      "Time 00:04:03 | Step 1445401 / 1495000 | TPS 2.5465 | ETA 05:24:37\n",
      "Time 00:04:42 | Step 1445501 / 1495000 | TPS 2.54824 | ETA 05:23:44\n",
      "Time 00:05:21 | Step 1445601 / 1495000 | TPS 2.54007 | ETA 05:24:07\n",
      "Time 00:06:01 | Step 1445701 / 1495000 | TPS 2.54005 | ETA 05:23:28\n",
      "Time 00:06:40 | Step 1445801 / 1495000 | TPS 2.5366 | ETA 05:23:15\n"
     ]
    }
   ],
   "source": [
    "hoomd.run(steps_ramp)\n",
    "system.box.get_volume()"
   ]
  },
  {
   "cell_type": "code",
   "execution_count": null,
   "metadata": {},
   "outputs": [],
   "source": [
    "system.get_metadata()"
   ]
  },
  {
   "cell_type": "code",
   "execution_count": null,
   "metadata": {},
   "outputs": [],
   "source": [
    "#-----Ramp2 T : 5.8 -> 6.0\n",
    "#-----Update parameters\n",
    "\n",
    "npt.set_params(kT = temp2, tau = 3.0, tauP = 3.0);\n",
    "\n",
    "#-----Write output and Run the Simulation\n",
    "\n",
    "log_file = \"T_\" + str(t_2) + \"_P_\" + str(p_max) + \"_ramp.log\"\n",
    "gsd_file = \"T_\" + str(t_2) + \"_P_\" + str(p_max) + \"_ramp.gsd\" \n",
    "meso_gsd_file = \"T_CM_\" + str(t_2) + \"_P_\" + str(p_max) + \"_ramp.gsd\"\n",
    "\n",
    "log = hoomd.analyze.log(filename = log_file,\n",
    "                         quantities = ['num_particles',\n",
    "                                     'ndof',\n",
    "                                     'translational_ndof',\n",
    "                                     'rotational_ndof',\n",
    "                                     'potential_energy',\n",
    "                                     'kinetic_energy',\n",
    "                                     'translational_kinetic_energy',\n",
    "                                     'rotational_kinetic_energy',\n",
    "                                     'temperature',\n",
    "                                     'pressure',\n",
    "                                      'volume'],\n",
    "                         period = 1e3,\n",
    "                         overwrite = True);\n",
    "gsd = hoomd.dump.gsd(gsd_file,\n",
    "               period = 1e3,\n",
    "               group = hoomd.group.all(),\n",
    "               overwrite = True); \n",
    "meso_gsd = hoomd.dump.gsd(meso_gsd_file,\n",
    "               period = 1e3,\n",
    "               group = mesogens,\n",
    "               overwrite = True);"
   ]
  },
  {
   "cell_type": "code",
   "execution_count": null,
   "metadata": {
    "scrolled": true
   },
   "outputs": [],
   "source": [
    "hoomd.run(steps_ramp)\n",
    "system.box.get_volume()"
   ]
  },
  {
   "cell_type": "code",
   "execution_count": null,
   "metadata": {},
   "outputs": [],
   "source": [
    "system.get_metadata()"
   ]
  },
  {
   "cell_type": "code",
   "execution_count": null,
   "metadata": {},
   "outputs": [],
   "source": [
    "#-----Ramp2 T : 6.0 -> 6.2\n",
    "#-----Update parameters\n",
    "\n",
    "npt.set_params(kT = temp3,tau = 4.0 ,tauP = 4.0);\n",
    "\n",
    "#-----Write output and Run the Simulation\n",
    "\n",
    "log_file = \"T_\" + str(t_3) + \"_P_\" + str(p_max) + \"_ramp.log\"\n",
    "gsd_file = \"T_\" + str(t_3) + \"_P_\" + str(p_max) + \"_ramp.gsd\" \n",
    "meso_gsd_file = \"T_CM_\" + str(t_3) + \"_P_\" + str(p_max) + \"_ramp.gsd\"\n",
    "\n",
    "log = hoomd.analyze.log(filename = log_file,\n",
    "                         quantities = ['num_particles',\n",
    "                                     'ndof',\n",
    "                                     'translational_ndof',\n",
    "                                     'rotational_ndof',\n",
    "                                     'potential_energy',\n",
    "                                     'kinetic_energy',\n",
    "                                     'translational_kinetic_energy',\n",
    "                                     'rotational_kinetic_energy',\n",
    "                                     'temperature',\n",
    "                                     'pressure',\n",
    "                                      'volume'],\n",
    "                         period = 1e3,\n",
    "                         overwrite = True);\n",
    "gsd = hoomd.dump.gsd(gsd_file,\n",
    "               period = 1e3,\n",
    "               group = hoomd.group.all(),\n",
    "               overwrite = True); \n",
    "meso_gsd = hoomd.dump.gsd(meso_gsd_file,\n",
    "               period = 1e3,\n",
    "               group = mesogens,\n",
    "               overwrite = True);"
   ]
  },
  {
   "cell_type": "code",
   "execution_count": null,
   "metadata": {},
   "outputs": [],
   "source": [
    "hoomd.run(steps_ramp)\n",
    "system.box.get_volume()"
   ]
  },
  {
   "cell_type": "code",
   "execution_count": null,
   "metadata": {},
   "outputs": [],
   "source": [
    "system.get_metadata()"
   ]
  }
 ],
 "metadata": {
  "kernelspec": {
   "display_name": "Python 3",
   "language": "python",
   "name": "python3"
  },
  "language_info": {
   "codemirror_mode": {
    "name": "ipython",
    "version": 3
   },
   "file_extension": ".py",
   "mimetype": "text/x-python",
   "name": "python",
   "nbconvert_exporter": "python",
   "pygments_lexer": "ipython3",
   "version": "3.7.3"
  }
 },
 "nbformat": 4,
 "nbformat_minor": 4
}
