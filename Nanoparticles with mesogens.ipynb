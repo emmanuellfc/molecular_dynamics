{
 "cells": [
  {
   "cell_type": "markdown",
   "metadata": {},
   "source": [
    "# Nanoparticles with mesogens "
   ]
  },
  {
   "cell_type": "markdown",
   "metadata": {},
   "source": [
    "- v3.0 (28/06/2019) Juan and Orlando changed the epsilons for NP with M and A to 1.0. The program didn't crashed and the simulation finished 1e4 steps. Visualization with ovito shows collisions of the NP with some of the A and M particles. The order parameter descends quickly from values S $\\approx$ 1 to values close to 0.5, but with a lot of noise.\n",
    "\n"
   ]
  },
  {
   "cell_type": "code",
   "execution_count": 1,
   "metadata": {},
   "outputs": [],
   "source": [
    "from __future__ import division\n",
    "import hoomd\n",
    "import hoomd.md\n",
    "import ex_render\n",
    "import numpy\n",
    "from matplotlib import pyplot"
   ]
  },
  {
   "cell_type": "code",
   "execution_count": 2,
   "metadata": {},
   "outputs": [
    {
     "name": "stdout",
     "output_type": "stream",
     "text": [
      "HOOMD-blue v2.3.1-1-gb7f98d0 CUDA (8.0) DOUBLE HPMC_MIXED MPI SSE SSE2 SSE3 \n",
      "Compiled: 06/07/18\n",
      "Copyright 2009-2018 The Regents of the University of Michigan.\n",
      "-----\n",
      "You are using HOOMD-blue. Please cite the following:\n",
      "* J A Anderson, C D Lorenz, and A Travesset. \"General purpose molecular dynamics\n",
      "  simulations fully implemented on graphics processing units\", Journal of\n",
      "  Computational Physics 227 (2008) 5342--5359\n",
      "* J Glaser, T D Nguyen, J A Anderson, P Liu, F Spiga, J A Millan, D C Morse, and\n",
      "  S C Glotzer. \"Strong scaling of general-purpose molecular dynamics simulations\n",
      "  on GPUs\", Computer Physics Communications 192 (2015) 97--107\n",
      "-----\n",
      "notice(2): Error calling cudaGetDeviceCount(). No NVIDIA driver is present, or this user\n",
      "notice(2): does not have readwrite permissions on /dev/nvidia*\n",
      "notice(2): Ignoring any GPUs in the system.\n",
      "HOOMD-blue is running on the CPU\n",
      "notice(2): Group \"all\" created containing 125 particles\n"
     ]
    }
   ],
   "source": [
    "# Simulation context using hoomd.variant\n",
    "\n",
    "#-------Define the unit cell\n",
    "sim1 = hoomd.context.initialize(\"\");\n",
    "uc = hoomd.lattice.unitcell(N = 1,\n",
    "                            a1 = [10., 0,   0],\n",
    "                            a2 = [0,    10., 0],\n",
    "                            a3 = [0,    0,   10.],\n",
    "                            dimensions = 3,\n",
    "                            position = [[0,0,0]],\n",
    "                            type_name = ['M'],\n",
    "                            mass = [1.0],\n",
    "                            moment_inertia = [[0,\n",
    "                                               1/12*1.0*8**2,\n",
    "                                               1/12*1.0*8**2]],\n",
    "                            orientation = [[1, 0, 0, 0]]);\n",
    "#-----From the lattice we obtain a snapshot and initialize.\n",
    "\n",
    "snap = uc.get_snapshot()\n",
    "snap.replicate(5,5,5)\n",
    "system = hoomd.init.read_snapshot(snap)"
   ]
  },
  {
   "cell_type": "code",
   "execution_count": 3,
   "metadata": {},
   "outputs": [],
   "source": [
    "for i in range(0,len(system.particles)):\n",
    "    system.particles[i].moment_inertia =[0, 1/12*1.0*8**2, 1/12*1.0*8**2]"
   ]
  },
  {
   "cell_type": "code",
   "execution_count": 4,
   "metadata": {},
   "outputs": [],
   "source": [
    "# for i in range(0,len(system.particles)):\n",
    "#    particle = system.particles[i]\n",
    "#    print('Tag:',particle.tag,'Position:',particle.position,'Mom Inertia', particle.moment_inertia)"
   ]
  },
  {
   "cell_type": "code",
   "execution_count": 5,
   "metadata": {},
   "outputs": [],
   "source": [
    "#-----Adding the NP's\n",
    "\n",
    "system.particles.types.add('NP')\n",
    "np_0 = system.particles[0]\n",
    "np_1 = system.particles[2]\n",
    "np_2 = system.particles[13]\n",
    "np_3 = system.particles[32]\n",
    "#np_4 = system.particles[120]\n",
    "\n",
    "#----- Specify diameter and moment of inertia\n",
    "\n",
    "np_0.type = 'NP'\n",
    "np_1.type = 'NP'\n",
    "np_2.type = 'NP'\n",
    "np_3.type = 'NP'\n",
    "#np_4.type = 'NP'\n",
    "\n",
    "np_0.diameter = 5.0\n",
    "np_1.diameter = 5.0\n",
    "np_2.diameter = 5.0\n",
    "np_3.diameter = 5.0\n",
    "#np_4.diameter = 5.0\n",
    "\n",
    "np_0.moment_inertia = [0,0,0]\n",
    "np_1.moment_inertia = [0,0,0]\n",
    "np_2.moment_inertia = [0,0,0]\n",
    "np_3.moment_inertia = [0,0,0]\n",
    "#np_4.moment_inertia = [0,0,0]"
   ]
  },
  {
   "cell_type": "code",
   "execution_count": 6,
   "metadata": {},
   "outputs": [
    {
     "name": "stdout",
     "output_type": "stream",
     "text": [
      "notice(2): constrain.rigid(): Creating 121 rigid bodies (adding 484 particles)\n"
     ]
    }
   ],
   "source": [
    "#-----Add the particle type for the constituent particles.\n",
    "\n",
    "system.particles.types.add('A');\n",
    "\n",
    "#-----Define each rigid body type in the local coordinate system of the body.\n",
    "\n",
    "rigid = hoomd.md.constrain.rigid();\n",
    "rigid.set_param('M', \n",
    "                types=['A']*4,\n",
    "                positions=[(-2,0,0),(-1,0,0),\n",
    "                           (1,0,0),(2,0,0)]);\n",
    "\n",
    "#-----Instruct the rigid constraint to create the constituent particles\n",
    "\n",
    "rigid.create_bodies()"
   ]
  },
  {
   "cell_type": "code",
   "execution_count": 7,
   "metadata": {},
   "outputs": [
    {
     "name": "stdout",
     "output_type": "stream",
     "text": [
      "notice(2): Group \"Nano_Particles\" created containing 4 particles\n",
      "notice(2): Group \"rigid_center\" created containing 121 particles\n",
      "notice(2): Group \"NP_Mes\" created containing 125 particles\n"
     ]
    }
   ],
   "source": [
    "#-----Define the potential energy\n",
    "\n",
    "nl = hoomd.md.nlist.cell()\n",
    "\n",
    "#lj = hoomd.md.pair.lj(r_cut=2**(1/6), nlist=nl)\n",
    "lj = hoomd.md.pair.lj(r_cut=3.5, nlist=nl)\n",
    "lj.set_params(mode='shift')\n",
    "\n",
    "#-----Define interaction with NP and mesogens\n",
    "\n",
    "lj.pair_coeff.set(['NP'],['NP'], epsilon = 1.0, sigma = 5.0)\n",
    "lj.pair_coeff.set(['M'],['M'], epsilon = 1.0, sigma = 1.0)\n",
    "lj.pair_coeff.set(['A'],['A'], epsilon = 1.0, sigma = 1.0)\n",
    "\n",
    "lj.pair_coeff.set(['NP'],['M'], epsilon = 1.0, sigma = 3.0)\n",
    "lj.pair_coeff.set(['NP'],['A'], epsilon = 1.0, sigma = 3.0)\n",
    "lj.pair_coeff.set(['M'],['A'], epsilon = 1.0, sigma = 1.0)\n",
    "\n",
    "\n",
    "#-----Select an NPT integrator\n",
    "\n",
    "hoomd.md.integrate.mode_standard(dt=0.005);\n",
    "\n",
    "#------Define two groups and make their union.\n",
    "\n",
    "nanoparticles = hoomd.group.type(name='Nano_Particles', type='NP')\n",
    "mesogens = hoomd.group.rigid_center();\n",
    "groupNP_mes = hoomd.group.union(name = \"NP_Mes\", a = nanoparticles, b = mesogens)\n",
    "\n",
    "#-----Integrate\n",
    "\n",
    "#-----Define pressure as a value that varies over time.\n",
    "\n",
    "pressure = hoomd.variant.linear_interp(points = [(0, 0.01), (1e5, 0.02)], zero = 'now')\n",
    "#hoomd.md.integrate.npt(group = groupNP_mes, kT = 1.0, tau = 0.5, tauP = 1.0, P = pressure);\n",
    "integrator= hoomd.md.integrate.nvt(group = groupNP_mes, kT = 1.0, tau = 0.5);\n",
    "integrator.randomize_velocities(seed=42)\n",
    "\n",
    "hoomd.dump.gsd(\"trajectory1.gsd\",\n",
    "               period=1,\n",
    "               group=hoomd.group.all(),\n",
    "               overwrite=True);  \n",
    "\n",
    "#-----Write output\n",
    "\n",
    "log = hoomd.analyze.log(filename=\"log-output1.log\",\n",
    "                         quantities=['num_particles',\n",
    "                                     'ndof',\n",
    "                                     'translational_ndof',\n",
    "                                     'rotational_ndof',\n",
    "                                     'potential_energy',\n",
    "                                     'kinetic_energy',\n",
    "                                     'translational_kinetic_energy',\n",
    "                                     'rotational_kinetic_energy',\n",
    "                                     'temperature',\n",
    "                                     'pressure'],\n",
    "                         period=1,\n",
    "                         overwrite=True);"
   ]
  },
  {
   "cell_type": "code",
   "execution_count": 8,
   "metadata": {},
   "outputs": [
    {
     "name": "stdout",
     "output_type": "stream",
     "text": [
      "notice(2): -- Neighborlist exclusion statistics -- :\n",
      "notice(2): Particles with 0 exclusions             : 609\n",
      "notice(2): Neighbors included by diameter          : no\n",
      "notice(2): Neighbors excluded when in the same body: yes\n",
      "** starting run **\n",
      "Time 00:00:10 | Step 28256 / 100000 | TPS 2825.58 | ETA 00:00:25\n",
      "Time 00:00:20 | Step 52935 / 100000 | TPS 2467.83 | ETA 00:00:19\n",
      "Time 00:00:30 | Step 74666 / 100000 | TPS 2173.09 | ETA 00:00:11\n",
      "Time 00:00:40 | Step 93910 / 100000 | TPS 1924.35 | ETA 00:00:03\n",
      "Time 00:00:43 | Step 100000 / 100000 | TPS 1670.73 | ETA 00:00:00\n",
      "Average TPS: 2291\n",
      "---------\n",
      "-- Neighborlist stats:\n",
      "10929 normal updates / 1000 forced updates / 0 dangerous updates\n",
      "n_neigh_min: 0 / n_neigh_max: 90 / n_neigh_avg: 14.4943\n",
      "shortest rebuild period: 5\n",
      "-- Cell list stats:\n",
      "Dimension: 12, 12, 12\n",
      "n_min    : 0 / n_max: 37 / n_avg: 0.352431\n",
      "** run complete **\n"
     ]
    }
   ],
   "source": [
    "with sim1:\n",
    "    hoomd.run(1e5)"
   ]
  },
  {
   "cell_type": "code",
   "execution_count": 9,
   "metadata": {},
   "outputs": [
    {
     "data": {
      "text/plain": [
       "100000"
      ]
     },
     "execution_count": 9,
     "metadata": {},
     "output_type": "execute_result"
    }
   ],
   "source": [
    "hoomd.get_step()"
   ]
  },
  {
   "cell_type": "code",
   "execution_count": null,
   "metadata": {},
   "outputs": [],
   "source": [
    "#for i in range(0,len(system.particles)):\n",
    "#    particle = system.particles[i]\n",
    "#    print('Tag:',particle.tag,'Position:',particle.position)"
   ]
  },
  {
   "cell_type": "markdown",
   "metadata": {},
   "source": [
    "# Orientation analysis"
   ]
  },
  {
   "cell_type": "code",
   "execution_count": 10,
   "metadata": {},
   "outputs": [],
   "source": [
    "import gsd\n",
    "import gsd.hoomd"
   ]
  },
  {
   "cell_type": "code",
   "execution_count": 11,
   "metadata": {},
   "outputs": [],
   "source": [
    "# To show orientations, we use arrows rotated by the quaternions.\n",
    "from mpl_toolkits.mplot3d.axes3d import Axes3D\n",
    "\n",
    "# These functions are adapted from the rowan quaternion library.\n",
    "# See rowan.readthedocs.io for more information.\n",
    "def quat_multiply(qi, qj):\n",
    "    \"\"\"Multiply two sets of quaternions.\"\"\"\n",
    "    output = numpy.empty(numpy.broadcast(qi, qj).shape)\n",
    "\n",
    "    output[..., 0] = qi[..., 0] * qj[..., 0] - \\\n",
    "        numpy.sum(qi[..., 1:] * qj[..., 1:], axis=-1)\n",
    "    output[..., 1:] = (qi[..., 0, numpy.newaxis] * qj[..., 1:] +\n",
    "                       qj[..., 0, numpy.newaxis] * qi[..., 1:] +\n",
    "                       numpy.cross(qi[..., 1:], qj[..., 1:]))\n",
    "    return output\n",
    "\n",
    "def quat_rotate(q, v):\n",
    "    \"\"\"Rotate a vector by a quaternion.\"\"\"\n",
    "    v = numpy.array([0, *v])\n",
    "    \n",
    "    q_conj = q.copy()\n",
    "    q_conj[..., 1:] *= -1\n",
    "    \n",
    "    return quat_multiply(q, quat_multiply(v, q_conj))[..., 1:]"
   ]
  },
  {
   "cell_type": "code",
   "execution_count": 12,
   "metadata": {},
   "outputs": [],
   "source": [
    "t1 = gsd.hoomd.open('trajectory1.gsd', 'rb')"
   ]
  },
  {
   "cell_type": "code",
   "execution_count": 13,
   "metadata": {},
   "outputs": [],
   "source": [
    "def orientationPlot(step, t):\n",
    "    L = t[0].particles.N\n",
    "    positions = t[step].particles.position[0:L];\n",
    "    \n",
    "    orientations = t[step].particles.orientation[0:L]\n",
    "    arrowheads = quat_rotate(orientations, numpy.array([1, 0, 0]))\n",
    "\n",
    "    fig = pyplot.figure()\n",
    "    ax = fig.add_subplot(111, projection='3d')\n",
    "    ax.quiver3D(positions[:, 0], positions[:, 1], positions[:, 2],\n",
    "                arrowheads[:, 0], arrowheads[:, 1], arrowheads[:, 2])\n",
    "    ax.set_title(\"Orientations\", fontsize=16);"
   ]
  },
  {
   "cell_type": "code",
   "execution_count": 14,
   "metadata": {},
   "outputs": [],
   "source": [
    "def nematicOrderTensor(step, t):\n",
    " \n",
    "    L = t[0].particles.N\n",
    "    quaternions = t[step].particles.orientation[0:L]\n",
    "    arrowheads = quat_rotate(quaternions, numpy.array([1, 0, 0]))\n",
    "    \n",
    "    \n",
    "    results = []\n",
    "    for i in range(5):\n",
    "        results.append( numpy.outer(arrowheads[i],arrowheads[i])  )\n",
    "        \n",
    "    Q = numpy.mean(results, axis=0)  # calculate mean without flattening array\n",
    "    Q -= numpy.identity(3)/3.0       # subtract Identity/3\n",
    "    \n",
    "    return(Q)"
   ]
  },
  {
   "cell_type": "code",
   "execution_count": 15,
   "metadata": {},
   "outputs": [
    {
     "data": {
      "text/plain": [
       "array([[ 0.66666667,  0.        ,  0.        ],\n",
       "       [ 0.        , -0.33333333,  0.        ],\n",
       "       [ 0.        ,  0.        , -0.33333333]])"
      ]
     },
     "execution_count": 15,
     "metadata": {},
     "output_type": "execute_result"
    }
   ],
   "source": [
    "nematicOrderTensor(0,t1)"
   ]
  },
  {
   "cell_type": "code",
   "execution_count": 16,
   "metadata": {},
   "outputs": [],
   "source": [
    "def nematization(step, t):\n",
    "        Q = nematicOrderTensor(step,t)\n",
    "        \n",
    "        eigen_values, eigen_vectors = numpy.linalg.eig(Q)\n",
    "        idx = eigen_values.argsort()[::-1]   \n",
    "        \n",
    "        eigen_values = eigen_values[idx]\n",
    "       \n",
    "        return(1.5*eigen_values[0])"
   ]
  },
  {
   "cell_type": "code",
   "execution_count": 18,
   "metadata": {},
   "outputs": [
    {
     "data": {
      "text/plain": [
       "0.9995716559725774"
      ]
     },
     "execution_count": 18,
     "metadata": {},
     "output_type": "execute_result"
    }
   ],
   "source": [
    "nematization(9,t1)"
   ]
  },
  {
   "cell_type": "code",
   "execution_count": 19,
   "metadata": {},
   "outputs": [],
   "source": [
    "def sList(t):\n",
    "\n",
    "    s = []\n",
    "    for i in range(len(t)):\n",
    "        s.append(nematization(i,t))\n",
    "        \n",
    "    return(s)"
   ]
  },
  {
   "cell_type": "code",
   "execution_count": 20,
   "metadata": {},
   "outputs": [],
   "source": [
    "s1= sList(t1)"
   ]
  },
  {
   "cell_type": "code",
   "execution_count": 27,
   "metadata": {},
   "outputs": [
    {
     "data": {
      "image/png": "[encoded data removed]",
      "text/plain": [
       "<Figure size 560x308 with 1 Axes>"
      ]
     },
     "metadata": {
      "needs_background": "light"
     },
     "output_type": "display_data"
    }
   ],
   "source": [
    "pyplot.figure(figsize=(4,2.2), dpi=140);\n",
    "pyplot.scatter(\n",
    "    numpy.arange(len(s1)), \n",
    "    s1, s=1);\n",
    "\n",
    "pyplot.xlabel('sample');\n",
    "pyplot.ylabel('S');\n",
    "pyplot.ylim((0,1.1));"
   ]
  },
  {
   "cell_type": "markdown",
   "metadata": {},
   "source": [
    "### Density of the system"
   ]
  },
  {
   "cell_type": "code",
   "execution_count": null,
   "metadata": {},
   "outputs": [],
   "source": [
    "particles = snap.particles.N\n",
    "\n",
    "lx = snap.box.Lx\n",
    "ly = snap.box.Ly\n",
    "lz = snap.box.Lz\n",
    "volume = lx * ly *lz\n",
    "\n",
    "density = particles / volume\n",
    "print('Particles = ', particles)\n",
    "print(\"Volume = \",volume)\n",
    "print(\"Density = \", density)"
   ]
  }
 ],
 "metadata": {
  "kernelspec": {
   "display_name": "Python 3",
   "language": "python",
   "name": "python3"
  },
  "language_info": {
   "codemirror_mode": {
    "name": "ipython",
    "version": 3
   },
   "file_extension": ".py",
   "mimetype": "text/x-python",
   "name": "python",
   "nbconvert_exporter": "python",
   "pygments_lexer": "ipython3",
   "version": "3.6.8"
  }
 },
 "nbformat": 4,
 "nbformat_minor": 2
}
