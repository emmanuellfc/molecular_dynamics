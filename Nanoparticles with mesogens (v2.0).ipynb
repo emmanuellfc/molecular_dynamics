{
 "cells": [
  {
   "cell_type": "markdown",
   "metadata": {},
   "source": [
    "# Nanoparticles with mesogens v2.0 (27/06/2019)"
   ]
  },
  {
   "cell_type": "code",
   "execution_count": 9,
   "metadata": {},
   "outputs": [],
   "source": [
    "from __future__ import division\n",
    "import hoomd\n",
    "import hoomd.md\n",
    "import ex_render\n",
    "import numpy\n",
    "from matplotlib import pyplot"
   ]
  },
  {
   "cell_type": "code",
   "execution_count": 10,
   "metadata": {},
   "outputs": [],
   "source": [
    "#-----Some important variables\n",
    "box_side = 5.5\n",
    "n_replicates = 10\n",
    "np_diameter = 5.0"
   ]
  },
  {
   "cell_type": "code",
   "execution_count": 11,
   "metadata": {},
   "outputs": [
    {
     "name": "stdout",
     "output_type": "stream",
     "text": [
      "notice(2): Group \"all\" created containing 1000 particles\n"
     ]
    }
   ],
   "source": [
    "#-------Define the unit cell\n",
    "hoomd.context.initialize(\"\");\n",
    "uc = hoomd.lattice.unitcell(N = 1,\n",
    "                            a1 = [box_side, 0, 0],\n",
    "                            a2 = [0, box_side, 0],\n",
    "                            a3 = [0, 0, box_side],\n",
    "                            dimensions = 3,\n",
    "                            position = [[0,0,0]],\n",
    "                            type_name = ['M'],\n",
    "                            mass = [1.0],\n",
    "                            moment_inertia = [[0,\n",
    "                                               1/12*1.0*8**2,\n",
    "                                               1/12*1.0*8**2]],\n",
    "                            orientation = [[1, 0, 0, 0]]);\n",
    "#-----From the lattice we obtain a snapshot and initialize.\n",
    "\n",
    "snap = uc.get_snapshot()\n",
    "snap.replicate(n_replicates,n_replicates,n_replicates)\n",
    "system = hoomd.init.read_snapshot(snap)"
   ]
  },
  {
   "cell_type": "code",
   "execution_count": 12,
   "metadata": {},
   "outputs": [],
   "source": [
    "#-----Adding the NP's and it's properties\n",
    "\n",
    "system.particles.types.add('NP')\n",
    "np_0 = system.particles[0]\n",
    "np_1 = system.particles[222]\n",
    "np_2 = system.particles[444]\n",
    "np_3 = system.particles[666]\n",
    "#np_4 = system.particles[888]\n",
    "#----- Specify diameter and moment of inertia\n",
    "\n",
    "np_0.type = 'NP'\n",
    "np_1.type = 'NP'\n",
    "np_2.type = 'NP'\n",
    "np_3.type = 'NP'\n",
    "#np_4.type = 'NP'\n",
    "\n",
    "np_0.diameter = np_diameter\n",
    "np_1.diameter = np_diameter\n",
    "np_2.diameter = np_diameter\n",
    "np_3.diameter = np_diameter\n",
    "#np_4.diameter = np_diameter\n",
    "\n",
    "\n",
    "np_0.moment_inertia = [0,0,0]\n",
    "np_1.moment_inertia = [0,0,0]\n",
    "np_2.moment_inertia = [0,0,0]\n",
    "np_3.moment_inertia = [0,0,0]\n",
    "#np_4.moment_inertia = [0,0,0]\n",
    "\n",
    "#-----\n",
    "\n",
    "np_0.mass = 5.0\n",
    "np_1.mass = 5.0\n",
    "np_2.mass = 5.0\n",
    "np_3.mass = 5.0\n",
    "#np_4.mass = 5.0"
   ]
  },
  {
   "cell_type": "code",
   "execution_count": 13,
   "metadata": {},
   "outputs": [
    {
     "name": "stdout",
     "output_type": "stream",
     "text": [
      "notice(2): constrain.rigid(): Creating 996 rigid bodies (adding 3984 particles)\n"
     ]
    }
   ],
   "source": [
    "#-----Add the particle type for the constituent particles.\n",
    "\n",
    "system.particles.types.add('A');\n",
    "\n",
    "#-----Define each rigid body type in the local coordinate system of the body.\n",
    "\n",
    "rigid = hoomd.md.constrain.rigid();\n",
    "rigid.set_param('M', \n",
    "                types=['A']*4,\n",
    "                positions=[(-2,0,0),(-1,0,0),\n",
    "                           (1,0,0),(2,0,0)]);\n",
    "\n",
    "#-----Instruct the rigid constraint to create the constituent particles\n",
    "\n",
    "rigid.create_bodies();"
   ]
  },
  {
   "cell_type": "code",
   "execution_count": 14,
   "metadata": {},
   "outputs": [
    {
     "name": "stdout",
     "output_type": "stream",
     "text": [
      "notice(2): Group \"Nano_Particles\" created containing 4 particles\n",
      "notice(2): Group \"rigid_center\" created containing 996 particles\n",
      "notice(2): Group \"NP_Mes\" created containing 1000 particles\n"
     ]
    }
   ],
   "source": [
    "#-----Define the potential energy\n",
    "\n",
    "nl = hoomd.md.nlist.cell()\n",
    "\n",
    "lj = hoomd.md.pair.lj(r_cut = 3.0, nlist=nl)\n",
    "lj.set_params(mode='shift')\n",
    "\n",
    "#-----Define interaction with species in the binary mixture\n",
    "\n",
    "lj.pair_coeff.set('NP','NP', epsilon = 1.0, sigma = 5.0)\n",
    "lj.pair_coeff.set('M','M', epsilon = 1.0, sigma = 1.0)\n",
    "lj.pair_coeff.set('A','A', epsilon = 1.0, sigma = 1.0)\n",
    "lj.pair_coeff.set('M','A', epsilon = 1.0, sigma = 1.0)\n",
    "\n",
    "lj.pair_coeff.set('NP','M', epsilon = 1.0, sigma = 3.0)\n",
    "lj.pair_coeff.set('NP','A', epsilon = 1.0, sigma = 3.0)\n",
    "\n",
    "#-----Select an standard integrator\n",
    "\n",
    "hoomd.md.integrate.mode_standard(dt=0.005);\n",
    "\n",
    "#------Define two groups and make their union.\n",
    "\n",
    "nanoparticles = hoomd.group.type(name='Nano_Particles', type='NP')\n",
    "mesogens = hoomd.group.rigid_center();\n",
    "groupNP_mes = hoomd.group.union(name = \"NP_Mes\", a = nanoparticles, b = mesogens)\n",
    "\n",
    "#----Integrate using NPT\n",
    "\n",
    "pressure = hoomd.variant.linear_interp(points = [(0, 1.0), (1e4, 25.0)])\n",
    "npt = hoomd.md.integrate.npt(group = groupNP_mes, kT = 1.0, tau = 0.5, tauP = 1.0, P = pressure);\n",
    "npt.randomize_velocities(seed=42)\n",
    "\n",
    "hoomd.dump.gsd(\"binary_mixture.gsd\",\n",
    "               period=1e3,\n",
    "               group=hoomd.group.all(),\n",
    "               overwrite=True);  \n",
    "\n",
    "#-----Write output\n",
    "\n",
    "log1 = hoomd.analyze.log(filename=\"binary_mixture.log\",\n",
    "                         quantities=['num_particles',\n",
    "                                     'ndof',\n",
    "                                     'translational_ndof',\n",
    "                                     'rotational_ndof',\n",
    "                                     'potential_energy',\n",
    "                                     'kinetic_energy',\n",
    "                                     'translational_kinetic_energy',\n",
    "                                     'rotational_kinetic_energy',\n",
    "                                     'temperature',\n",
    "                                     'pressure'],\n",
    "                         period=1e3,\n",
    "                         overwrite=True);"
   ]
  },
  {
   "cell_type": "code",
   "execution_count": 15,
   "metadata": {},
   "outputs": [
    {
     "name": "stdout",
     "output_type": "stream",
     "text": [
      "notice(2): -- Neighborlist exclusion statistics -- :\n",
      "notice(2): Particles with 0 exclusions             : 4984\n",
      "notice(2): Neighbors included by diameter          : no\n",
      "notice(2): Neighbors excluded when in the same body: yes\n",
      "** starting run **\n",
      "Time 00:00:11 | Step 565 / 20000 | TPS 56.0246 | ETA 00:05:46\n",
      "Time 00:00:21 | Step 1124 / 20000 | TPS 55.8332 | ETA 00:05:38\n",
      "Time 00:00:31 | Step 1585 / 20000 | TPS 46.0962 | ETA 00:06:39\n",
      "Time 00:00:41 | Step 2069 / 20000 | TPS 48.3965 | ETA 00:06:10\n",
      "Time 00:00:51 | Step 2570 / 20000 | TPS 50.0984 | ETA 00:05:47\n",
      "Time 00:01:01 | Step 3044 / 20000 | TPS 47.3946 | ETA 00:05:57\n",
      "Time 00:01:11 | Step 3501 / 20000 | TPS 45.5145 | ETA 00:06:02\n",
      "Time 00:01:21 | Step 3986 / 20000 | TPS 48.2565 | ETA 00:05:31\n",
      "Time 00:01:31 | Step 4472 / 20000 | TPS 48.3324 | ETA 00:05:21\n",
      "Time 00:01:41 | Step 4925 / 20000 | TPS 44.9822 | ETA 00:05:35\n",
      "Time 00:01:51 | Step 5382 / 20000 | TPS 45.6717 | ETA 00:05:20\n",
      "Time 00:02:01 | Step 5858 / 20000 | TPS 47.5979 | ETA 00:04:57\n",
      "Time 00:02:11 | Step 6326 / 20000 | TPS 46.6429 | ETA 00:04:53\n",
      "Time 00:02:21 | Step 6772 / 20000 | TPS 44.5737 | ETA 00:04:56\n",
      "Time 00:02:31 | Step 7241 / 20000 | TPS 46.7977 | ETA 00:04:32\n",
      "Time 00:02:41 | Step 7716 / 20000 | TPS 47.4926 | ETA 00:04:18\n",
      "Time 00:02:51 | Step 8162 / 20000 | TPS 44.5384 | ETA 00:04:25\n",
      "Time 00:03:01 | Step 8607 / 20000 | TPS 44.4901 | ETA 00:04:16\n",
      "Time 00:03:11 | Step 9017 / 20000 | TPS 40.9684 | ETA 00:04:28\n",
      "Time 00:03:21 | Step 9414 / 20000 | TPS 39.6723 | ETA 00:04:26\n",
      "Time 00:03:31 | Step 9801 / 20000 | TPS 38.2272 | ETA 00:04:26\n",
      "Time 00:03:41 | Step 10181 / 20000 | TPS 37.9856 | ETA 00:04:18\n",
      "Time 00:03:51 | Step 10539 / 20000 | TPS 35.7616 | ETA 00:04:24\n",
      "Time 00:04:01 | Step 10944 / 20000 | TPS 40.2054 | ETA 00:03:45\n",
      "Time 00:04:11 | Step 11293 / 20000 | TPS 34.7579 | ETA 00:04:10\n",
      "Time 00:04:21 | Step 11691 / 20000 | TPS 39.7679 | ETA 00:03:28\n",
      "Time 00:04:31 | Step 12057 / 20000 | TPS 36.3298 | ETA 00:03:38\n",
      "Time 00:04:41 | Step 12427 / 20000 | TPS 36.9606 | ETA 00:03:24\n",
      "Time 00:04:51 | Step 12812 / 20000 | TPS 38.4517 | ETA 00:03:06\n",
      "Time 00:05:01 | Step 13163 / 20000 | TPS 35.0683 | ETA 00:03:14\n",
      "Time 00:05:11 | Step 13565 / 20000 | TPS 40.1114 | ETA 00:02:40\n",
      "Time 00:05:21 | Step 13917 / 20000 | TPS 35.1621 | ETA 00:02:52\n",
      "Time 00:05:31 | Step 14308 / 20000 | TPS 38.7236 | ETA 00:02:26\n",
      "Time 00:05:41 | Step 14686 / 20000 | TPS 37.7643 | ETA 00:02:20\n",
      "Time 00:05:51 | Step 15038 / 20000 | TPS 34.9931 | ETA 00:02:21\n",
      "Time 00:06:01 | Step 15438 / 20000 | TPS 39.9424 | ETA 00:01:54\n",
      "Time 00:06:11 | Step 15787 / 20000 | TPS 34.8397 | ETA 00:02:00\n",
      "Time 00:06:22 | Step 16189 / 20000 | TPS 39.9233 | ETA 00:01:35\n",
      "Time 00:06:32 | Step 16546 / 20000 | TPS 35.6896 | ETA 00:01:36\n",
      "Time 00:06:42 | Step 16916 / 20000 | TPS 36.6265 | ETA 00:01:24\n",
      "Time 00:06:52 | Step 17314 / 20000 | TPS 39.6545 | ETA 00:01:07\n",
      "Time 00:07:02 | Step 17659 / 20000 | TPS 34.361 | ETA 00:01:08\n",
      "Time 00:07:12 | Step 18058 / 20000 | TPS 39.6941 | ETA 00:00:48\n",
      "Time 00:07:22 | Step 18413 / 20000 | TPS 35.4586 | ETA 00:00:44\n",
      "Time 00:07:32 | Step 18801 / 20000 | TPS 38.7117 | ETA 00:00:30\n",
      "Time 00:07:42 | Step 19175 / 20000 | TPS 37.2483 | ETA 00:00:22\n",
      "Time 00:07:52 | Step 19533 / 20000 | TPS 35.4161 | ETA 00:00:13\n",
      "Time 00:08:02 | Step 19935 / 20000 | TPS 40.0953 | ETA 00:00:01\n",
      "Time 00:08:04 | Step 20000 / 20000 | TPS 39.2969 | ETA 00:00:00\n",
      "Average TPS: 41.3922\n",
      "---------\n",
      "-- Neighborlist stats:\n",
      "1996 normal updates / 200 forced updates / 0 dangerous updates\n",
      "n_neigh_min: 0 / n_neigh_max: 169 / n_neigh_avg: 83.1956\n",
      "shortest rebuild period: 1\n",
      "-- Cell list stats:\n",
      "Dimension: 4, 4, 4\n",
      "n_min    : 22 / n_max: 89 / n_avg: 77.875\n",
      "** run complete **\n",
      "** starting run **\n",
      "Time 00:08:14 | Step 20305 / 40000 | TPS 30.2561 | ETA 00:10:50\n",
      "Time 00:08:24 | Step 20619 / 40000 | TPS 31.1963 | ETA 00:10:21\n",
      "Time 00:08:34 | Step 20927 / 40000 | TPS 30.6466 | ETA 00:10:22\n",
      "Time 00:08:44 | Step 21233 / 40000 | TPS 30.5718 | ETA 00:10:13\n",
      "Time 00:08:54 | Step 21539 / 40000 | TPS 30.3895 | ETA 00:10:07\n",
      "Time 00:09:04 | Step 21835 / 40000 | TPS 29.3231 | ETA 00:10:19\n",
      "Time 00:09:14 | Step 22121 / 40000 | TPS 28.5797 | ETA 00:10:25\n",
      "Time 00:09:24 | Step 22415 / 40000 | TPS 29.393 | ETA 00:09:58\n",
      "Time 00:09:34 | Step 22725 / 40000 | TPS 30.9757 | ETA 00:09:17\n",
      "Time 00:09:44 | Step 23018 / 40000 | TPS 29.1314 | ETA 00:09:42\n",
      "Time 00:09:54 | Step 23335 / 40000 | TPS 31.6262 | ETA 00:08:46\n",
      "Time 00:10:04 | Step 23629 / 40000 | TPS 29.1249 | ETA 00:09:22\n",
      "Time 00:10:14 | Step 23949 / 40000 | TPS 31.6378 | ETA 00:08:27\n",
      "Time 00:10:24 | Step 24243 / 40000 | TPS 29.3507 | ETA 00:08:56\n",
      "Time 00:10:34 | Step 24563 / 40000 | TPS 31.9222 | ETA 00:08:03\n",
      "Time 00:10:44 | Step 24861 / 40000 | TPS 29.7608 | ETA 00:08:28\n",
      "Time 00:10:54 | Step 25172 / 40000 | TPS 31.0796 | ETA 00:07:57\n",
      "Time 00:11:04 | Step 25473 / 40000 | TPS 29.8506 | ETA 00:08:06\n",
      "Time 00:11:15 | Step 25792 / 40000 | TPS 31.5234 | ETA 00:07:30\n",
      "Time 00:11:25 | Step 26093 / 40000 | TPS 30.0917 | ETA 00:07:42\n",
      "Time 00:11:35 | Step 26409 / 40000 | TPS 31.2917 | ETA 00:07:14\n",
      "Time 00:11:45 | Step 26707 / 40000 | TPS 29.74 | ETA 00:07:26\n",
      "Time 00:11:55 | Step 27016 / 40000 | TPS 30.6859 | ETA 00:07:03\n",
      "Time 00:12:05 | Step 27307 / 40000 | TPS 28.9402 | ETA 00:07:18\n",
      "Time 00:12:15 | Step 27610 / 40000 | TPS 30.2847 | ETA 00:06:49\n",
      "Time 00:12:25 | Step 27886 / 40000 | TPS 27.3267 | ETA 00:07:23\n",
      "Time 00:12:35 | Step 28206 / 40000 | TPS 31.8561 | ETA 00:06:10\n",
      "Time 00:12:45 | Step 28494 / 40000 | TPS 28.7707 | ETA 00:06:39\n",
      "Time 00:12:55 | Step 28811 / 40000 | TPS 31.4211 | ETA 00:05:56\n",
      "Time 00:13:05 | Step 29106 / 40000 | TPS 29.2102 | ETA 00:06:12\n",
      "Time 00:13:15 | Step 29425 / 40000 | TPS 31.5703 | ETA 00:05:34\n",
      "Time 00:13:25 | Step 29724 / 40000 | TPS 29.7667 | ETA 00:05:45\n",
      "Time 00:13:35 | Step 30040 / 40000 | TPS 31.3789 | ETA 00:05:17\n",
      "Time 00:13:45 | Step 30332 / 40000 | TPS 29.1893 | ETA 00:05:31\n",
      "Time 00:13:56 | Step 30625 / 40000 | TPS 28.9832 | ETA 00:05:23\n",
      "Time 00:14:06 | Step 30920 / 40000 | TPS 29.4605 | ETA 00:05:08\n",
      "Time 00:14:16 | Step 31234 / 40000 | TPS 31.3659 | ETA 00:04:39\n",
      "Time 00:14:26 | Step 31531 / 40000 | TPS 29.5854 | ETA 00:04:46\n",
      "Time 00:14:36 | Step 31848 / 40000 | TPS 31.6897 | ETA 00:04:17\n",
      "Time 00:14:46 | Step 32146 / 40000 | TPS 29.5033 | ETA 00:04:26\n",
      "Time 00:14:56 | Step 32461 / 40000 | TPS 31.2498 | ETA 00:04:01\n",
      "Time 00:15:06 | Step 32757 / 40000 | TPS 29.5422 | ETA 00:04:05\n",
      "Time 00:15:16 | Step 33075 / 40000 | TPS 31.7835 | ETA 00:03:37\n",
      "Time 00:15:26 | Step 33372 / 40000 | TPS 29.4988 | ETA 00:03:44\n",
      "Time 00:15:36 | Step 33696 / 40000 | TPS 32.3834 | ETA 00:03:14\n",
      "Time 00:15:46 | Step 33995 / 40000 | TPS 29.8739 | ETA 00:03:21\n",
      "Time 00:15:56 | Step 34311 / 40000 | TPS 31.4756 | ETA 00:03:00\n",
      "Time 00:16:06 | Step 34608 / 40000 | TPS 29.688 | ETA 00:03:01\n",
      "Time 00:16:16 | Step 34926 / 40000 | TPS 31.5711 | ETA 00:02:40\n",
      "Time 00:16:26 | Step 35222 / 40000 | TPS 29.3699 | ETA 00:02:42\n",
      "Time 00:16:36 | Step 35545 / 40000 | TPS 32.083 | ETA 00:02:18\n",
      "Time 00:16:46 | Step 35844 / 40000 | TPS 29.5637 | ETA 00:02:20\n",
      "Time 00:16:56 | Step 36155 / 40000 | TPS 30.9924 | ETA 00:02:04\n",
      "Time 00:17:06 | Step 36454 / 40000 | TPS 29.8888 | ETA 00:01:58\n",
      "Time 00:17:16 | Step 36758 / 40000 | TPS 30.2511 | ETA 00:01:47\n",
      "Time 00:17:26 | Step 37052 / 40000 | TPS 29.1005 | ETA 00:01:41\n",
      "Time 00:17:37 | Step 37374 / 40000 | TPS 31.8649 | ETA 00:01:22\n",
      "Time 00:17:47 | Step 37657 / 40000 | TPS 28.2639 | ETA 00:01:22\n",
      "Time 00:17:57 | Step 37961 / 40000 | TPS 30.2693 | ETA 00:01:07\n",
      "Time 00:18:07 | Step 38255 / 40000 | TPS 29.3932 | ETA 00:00:59\n",
      "Time 00:18:17 | Step 38556 / 40000 | TPS 29.9583 | ETA 00:00:48\n",
      "Time 00:18:27 | Step 38781 / 40000 | TPS 22.4346 | ETA 00:00:54\n",
      "Time 00:18:37 | Step 39030 / 40000 | TPS 24.8879 | ETA 00:00:38\n",
      "Time 00:18:47 | Step 39258 / 40000 | TPS 22.7909 | ETA 00:00:32\n",
      "Time 00:18:57 | Step 39493 / 40000 | TPS 23.472 | ETA 00:00:21\n",
      "Time 00:19:07 | Step 39762 / 40000 | TPS 26.6257 | ETA 00:00:08\n",
      "Time 00:19:15 | Step 40000 / 40000 | TPS 29.9041 | ETA 00:00:00\n",
      "Average TPS: 29.8013\n",
      "---------\n",
      "-- Neighborlist stats:\n",
      "3805 normal updates / 200 forced updates / 0 dangerous updates\n",
      "n_neigh_min: 0 / n_neigh_max: 168 / n_neigh_avg: 83.0869\n",
      "shortest rebuild period: 4\n",
      "-- Cell list stats:\n",
      "Dimension: 4, 4, 4\n",
      "n_min    : 25 / n_max: 90 / n_avg: 77.875\n",
      "** run complete **\n"
     ]
    }
   ],
   "source": [
    "#-----Run with NPT, then disable it\n",
    "\n",
    "hoomd.run(2e4)\n",
    "npt.disable()\n",
    "\n",
    "#-----Define an NVT integrator\n",
    "\n",
    "nvt = hoomd.md.integrate.nvt(group = groupNP_mes, kT = 3.0, tau = 0.5);\n",
    "nvt.randomize_velocities(seed=42)\n",
    "\n",
    "#-----Run with NVT\n",
    "\n",
    "hoomd.run(2e4)"
   ]
  },
  {
   "cell_type": "code",
   "execution_count": 16,
   "metadata": {},
   "outputs": [
    {
     "name": "stdout",
     "output_type": "stream",
     "text": [
      "Particles =  1000\n",
      "Volume =  4854.344937785794\n",
      "Density =  0.20600101822515493\n"
     ]
    }
   ],
   "source": [
    "#-----Calculate the density of the system\n",
    "particles = snap.particles.N\n",
    "l = system.box.Lx\n",
    "volume = l*l*l\n",
    "\n",
    "density = particles / volume\n",
    "print('Particles = ', particles)\n",
    "print(\"Volume = \",volume)\n",
    "print(\"Density = \", density)"
   ]
  },
  {
   "cell_type": "markdown",
   "metadata": {},
   "source": [
    "# Orientation analysis"
   ]
  },
  {
   "cell_type": "code",
   "execution_count": null,
   "metadata": {},
   "outputs": [],
   "source": [
    "import gsd\n",
    "import gsd.hoomd"
   ]
  },
  {
   "cell_type": "code",
   "execution_count": null,
   "metadata": {},
   "outputs": [],
   "source": [
    "# To show orientations, we use arrows rotated by the quaternions.\n",
    "from mpl_toolkits.mplot3d.axes3d import Axes3D\n",
    "\n",
    "# These functions are adapted from the rowan quaternion library.\n",
    "# See rowan.readthedocs.io for more information.\n",
    "def quat_multiply(qi, qj):\n",
    "    \"\"\"Multiply two sets of quaternions.\"\"\"\n",
    "    output = numpy.empty(numpy.broadcast(qi, qj).shape)\n",
    "\n",
    "    output[..., 0] = qi[..., 0] * qj[..., 0] - \\\n",
    "        numpy.sum(qi[..., 1:] * qj[..., 1:], axis=-1)\n",
    "    output[..., 1:] = (qi[..., 0, numpy.newaxis] * qj[..., 1:] +\n",
    "                       qj[..., 0, numpy.newaxis] * qi[..., 1:] +\n",
    "                       numpy.cross(qi[..., 1:], qj[..., 1:]))\n",
    "    return output\n",
    "\n",
    "def quat_rotate(q, v):\n",
    "    \"\"\"Rotate a vector by a quaternion.\"\"\"\n",
    "    v = numpy.array([0, *v])\n",
    "    \n",
    "    q_conj = q.copy()\n",
    "    q_conj[..., 1:] *= -1\n",
    "    \n",
    "    return quat_multiply(q, quat_multiply(v, q_conj))[..., 1:]"
   ]
  },
  {
   "cell_type": "code",
   "execution_count": null,
   "metadata": {},
   "outputs": [],
   "source": [
    "t1 = gsd.hoomd.open('trajectory1.gsd', 'rb')"
   ]
  },
  {
   "cell_type": "code",
   "execution_count": null,
   "metadata": {},
   "outputs": [],
   "source": [
    "def orientationPlot(step, t):\n",
    "    L = t[0].particles.N\n",
    "    positions = t[step].particles.position[0:L];\n",
    "    \n",
    "    orientations = t[step].particles.orientation[0:L]\n",
    "    arrowheads = quat_rotate(orientations, numpy.array([1, 0, 0]))\n",
    "\n",
    "    fig = pyplot.figure()\n",
    "    ax = fig.add_subplot(111, projection='3d')\n",
    "    ax.quiver3D(positions[:, 0], positions[:, 1], positions[:, 2],\n",
    "                arrowheads[:, 0], arrowheads[:, 1], arrowheads[:, 2])\n",
    "    ax.set_title(\"Orientations\", fontsize=16);"
   ]
  },
  {
   "cell_type": "code",
   "execution_count": null,
   "metadata": {},
   "outputs": [],
   "source": [
    "def nematicOrderTensor(step, t):\n",
    " \n",
    "    L = t[0].particles.N\n",
    "    quaternions = t[step].particles.orientation[0:L]\n",
    "    arrowheads = quat_rotate(quaternions, numpy.array([1, 0, 0]))\n",
    "    \n",
    "    \n",
    "    results = []\n",
    "    for i in range(5):\n",
    "        results.append( numpy.outer(arrowheads[i],arrowheads[i])  )\n",
    "        \n",
    "    Q = numpy.mean(results, axis=0)  # calculate mean without flattening array\n",
    "    Q -= numpy.identity(3)/3.0       # subtract Identity/3\n",
    "    \n",
    "    return(Q)"
   ]
  },
  {
   "cell_type": "code",
   "execution_count": null,
   "metadata": {},
   "outputs": [],
   "source": [
    "nematicOrderTensor(0,t1)"
   ]
  },
  {
   "cell_type": "code",
   "execution_count": null,
   "metadata": {},
   "outputs": [],
   "source": [
    "def nematization(step, t):\n",
    "        Q = nematicOrderTensor(step,t)\n",
    "        \n",
    "        eigen_values, eigen_vectors = numpy.linalg.eig(Q)\n",
    "        idx = eigen_values.argsort()[::-1]   \n",
    "        \n",
    "        eigen_values = eigen_values[idx]\n",
    "       \n",
    "        return(1.5*eigen_values[0])"
   ]
  },
  {
   "cell_type": "code",
   "execution_count": null,
   "metadata": {},
   "outputs": [],
   "source": [
    "nematization(9,t1)"
   ]
  },
  {
   "cell_type": "code",
   "execution_count": null,
   "metadata": {},
   "outputs": [],
   "source": [
    "def sList(t):\n",
    "\n",
    "    s = []\n",
    "    for i in range(len(t)):\n",
    "        s.append(nematization(i,t))\n",
    "        \n",
    "    return(s)"
   ]
  },
  {
   "cell_type": "code",
   "execution_count": null,
   "metadata": {},
   "outputs": [],
   "source": [
    "pyplot.figure(figsize=(4,2.2), dpi=140);\n",
    "\n",
    "s1= sList(t1)\n",
    "\n",
    "pyplot.scatter(\n",
    "    numpy.arange(len(s1)), \n",
    "    s1);\n",
    "\n",
    "pyplot.xlabel('sample');\n",
    "pyplot.ylabel('S');\n",
    "pyplot.ylim((0,1.1))"
   ]
  },
  {
   "cell_type": "markdown",
   "metadata": {},
   "source": [
    "### Density of the system"
   ]
  },
  {
   "cell_type": "code",
   "execution_count": null,
   "metadata": {},
   "outputs": [],
   "source": [
    "particles = snap.particles.N\n",
    "\n",
    "lx = system.box.Lx\n",
    "ly = system.box.Ly\n",
    "lz = system.box.Lz\n",
    "volume = lx * ly *lz\n",
    "\n",
    "density = particles / volume\n",
    "print('Particles = ', particles)\n",
    "print(\"Volume = \",volume)\n",
    "print(\"Density = \", density)"
   ]
  },
  {
   "cell_type": "code",
   "execution_count": null,
   "metadata": {},
   "outputs": [],
   "source": []
  }
 ],
 "metadata": {
  "kernelspec": {
   "display_name": "Python 3",
   "language": "python",
   "name": "python3"
  },
  "language_info": {
   "codemirror_mode": {
    "name": "ipython",
    "version": 3
   },
   "file_extension": ".py",
   "mimetype": "text/x-python",
   "name": "python",
   "nbconvert_exporter": "python",
   "pygments_lexer": "ipython3",
   "version": "3.7.3"
  }
 },
 "nbformat": 4,
 "nbformat_minor": 2
}
